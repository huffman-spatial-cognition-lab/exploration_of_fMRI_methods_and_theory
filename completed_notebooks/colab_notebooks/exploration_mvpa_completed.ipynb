{
 "cells": [
  {
   "cell_type": "markdown",
   "metadata": {
    "id": "VNqNc-msu7hx"
   },
   "source": [
    "# Multivariate pattern analysis of fMRI data to study category representation in the human brain\n",
    "\n",
    "## In this notebook, we will work through a multivariate pattern analysis (MVPA) of one participant from Haxby et al. (2001)\n",
    "\n",
    "The goal here is for you to learn about how to implement multivariate pattern analysis (MVPA), which attempts to determine whether distributed patterns of activity differ between conditions. In this case, we will be using machine learning to look at patterns of activaty in the visual system in response to different categories of images (e.g., faces, houses). This analysis will be done on a single participant from a landmark study:\n",
    "\n",
    "Haxby, J. V., Gobbini, M. I., Furey, M. L., Ishai, A., Schouten, J. L., & Pietrini, P. (2001). Distributed and overlapping representations of faces and objects in ventral temporal cortex. *Science*, 293, 2425-2430. http://dx.doi.org/10.1126/science.1063736\n",
    "\n",
    "## Why are you having us analyze fMRI data in a 200-level course?\n",
    "\n",
    "I believe that we learn best by actually working with the content from the field. For example, if you want to learn how to paint, sure, you can read a book about painting, you can look at paintings, you might even learn from watching videos of other people painting and lectures in which experienced artists teach you how to paint. However, you are going to learn best by actually picking up a paintbrush, dipping it in the paint, and trying to paint something yourself. You will learn how to mix colors together, how much pressure to apply to the canvas, which paintbrush to use in different situations, how long to let paint dry before adding different colors, and (perhaps most importantly) you will learn from your mistakes. Simply put, you will learn a lot more by practicing (as the saying goes: \"experience is the best teacher\"). Moreover, these practical experiences will help you learn more from your other resources. For example, you might revisit readings or discussions to really think about *why* we use certain techniques. Similarly, to *really* understand cognitive neuroscience, I believe that we have to actually practice some cognitive neuroscience, so pick up your paintbrush and start painting some brain maps with the Python code below!\n",
    "\n",
    "## Why are you having us analyze fMRI data in introductory cognitive neuroscience course?\n",
    "I (Prof. Derek Huffman) believe that we learn best by actually working with the content from the field. For example, if you want to learn how to paint, sure, you can read a book about painting, you can look at paintings, you might even learn from watching videos of other people painting and lectures in which experienced artists teach you how to paint. However, you are going to learn best by actually picking up a paintbrush, dipping it in the paint, and trying to paint something yourself. You will learn how to mix colors together, how much pressure to apply to the canvas, which paintbrush to use in different situations, how long to let paint dry before adding different colors, and (perhaps most importantly) you will learn from your mistakes. Simply put, you will learn a lot more by practicing (as the saying goes: \"experience is the best teacher\"). Moreover, these practical experiences will help you learn more from your other resources. For example, you might revisit readings or discussions to really think about *why* we use certain techniques. Similarly, to *really* understand cognitive neuroscience, I believe that we have to actually practice some cognitive neuroscience, so pick up your paintbrush and start painting some brain maps with the Python code below!\n",
    "\n",
    "## Attributions and citations for this notebook\n",
    "Written by Professor Derek J. Huffman at Colby College, Waterville, ME 04901, USA (with the nilearn tutorials as a helpful starting point; Nilearn Contributors et al., 2023)\n",
    "\n",
    "Most recent updates: 2024 JAN 17\n",
    "\n",
    "Please keep the attribution line above as well as the citations below (update as you change the code):\n",
    "\n",
    "Huffman, D. J. (2024). An in-depth exploration of the interplay between fMRI methods and theory in cognitive neuroscience. PsyArXiv.\n",
    "\n",
    "Nilearn Contributors et al. (2023) nilearn. Available at: https://zenodo.org/record/8397156."
   ]
  },
  {
   "cell_type": "markdown",
   "metadata": {
    "id": "BS5X4jORwQRC"
   },
   "source": [
    "## Set things up for the analysis\n",
    "\n",
    "### Load the relevant packages, etc.\n",
    "\n",
    "#### For Google Colaboratory, we need to install nilearn onto the machines we are using (in the cloud)."
   ]
  },
  {
   "cell_type": "code",
   "execution_count": 1,
   "metadata": {
    "colab": {
     "base_uri": "https://localhost:8080/"
    },
    "executionInfo": {
     "elapsed": 15252,
     "status": "ok",
     "timestamp": 1705585406938,
     "user": {
      "displayName": "Derek Huffman",
      "userId": "09342400108599564621"
     },
     "user_tz": 300
    },
    "id": "pDD2NPFfwZok",
    "outputId": "d0f84b26-0291-4a44-f291-d32c3dabac84"
   },
   "outputs": [
    {
     "name": "stdout",
     "output_type": "stream",
     "text": [
      "Requirement already satisfied: nilearn in /usr/local/lib/python3.10/dist-packages (0.10.2)\n",
      "Requirement already satisfied: joblib>=1.0.0 in /usr/local/lib/python3.10/dist-packages (from nilearn) (1.3.2)\n",
      "Requirement already satisfied: lxml in /usr/local/lib/python3.10/dist-packages (from nilearn) (4.9.4)\n",
      "Requirement already satisfied: nibabel>=3.2.0 in /usr/local/lib/python3.10/dist-packages (from nilearn) (4.0.2)\n",
      "Requirement already satisfied: numpy>=1.19.0 in /usr/local/lib/python3.10/dist-packages (from nilearn) (1.23.5)\n",
      "Requirement already satisfied: packaging in /usr/local/lib/python3.10/dist-packages (from nilearn) (23.2)\n",
      "Requirement already satisfied: pandas>=1.1.5 in /usr/local/lib/python3.10/dist-packages (from nilearn) (1.5.3)\n",
      "Requirement already satisfied: requests>=2.25.0 in /usr/local/lib/python3.10/dist-packages (from nilearn) (2.31.0)\n",
      "Requirement already satisfied: scikit-learn>=1.0.0 in /usr/local/lib/python3.10/dist-packages (from nilearn) (1.2.2)\n",
      "Requirement already satisfied: scipy>=1.6.0 in /usr/local/lib/python3.10/dist-packages (from nilearn) (1.11.4)\n",
      "Requirement already satisfied: setuptools in /usr/local/lib/python3.10/dist-packages (from nibabel>=3.2.0->nilearn) (67.7.2)\n",
      "Requirement already satisfied: python-dateutil>=2.8.1 in /usr/local/lib/python3.10/dist-packages (from pandas>=1.1.5->nilearn) (2.8.2)\n",
      "Requirement already satisfied: pytz>=2020.1 in /usr/local/lib/python3.10/dist-packages (from pandas>=1.1.5->nilearn) (2023.3.post1)\n",
      "Requirement already satisfied: charset-normalizer<4,>=2 in /usr/local/lib/python3.10/dist-packages (from requests>=2.25.0->nilearn) (3.3.2)\n",
      "Requirement already satisfied: idna<4,>=2.5 in /usr/local/lib/python3.10/dist-packages (from requests>=2.25.0->nilearn) (3.6)\n",
      "Requirement already satisfied: urllib3<3,>=1.21.1 in /usr/local/lib/python3.10/dist-packages (from requests>=2.25.0->nilearn) (2.0.7)\n",
      "Requirement already satisfied: certifi>=2017.4.17 in /usr/local/lib/python3.10/dist-packages (from requests>=2.25.0->nilearn) (2023.11.17)\n",
      "Requirement already satisfied: threadpoolctl>=2.0.0 in /usr/local/lib/python3.10/dist-packages (from scikit-learn>=1.0.0->nilearn) (3.2.0)\n",
      "Requirement already satisfied: six>=1.5 in /usr/local/lib/python3.10/dist-packages (from python-dateutil>=2.8.1->pandas>=1.1.5->nilearn) (1.16.0)\n"
     ]
    }
   ],
   "source": [
    "pip install nilearn"
   ]
  },
  {
   "cell_type": "markdown",
   "metadata": {
    "id": "ec2i_mOVwbig"
   },
   "source": [
    "#### Now we can import the relevant functions for our analysis."
   ]
  },
  {
   "cell_type": "code",
   "execution_count": 2,
   "metadata": {
    "executionInfo": {
     "elapsed": 2513,
     "status": "ok",
     "timestamp": 1705585409443,
     "user": {
      "displayName": "Derek Huffman",
      "userId": "09342400108599564621"
     },
     "user_tz": 300
    },
    "id": "oPnbyUk0u7h2"
   },
   "outputs": [],
   "source": [
    "import numpy as np\n",
    "import matplotlib.pyplot as plt\n",
    "import pandas as pd\n",
    "import seaborn as sns\n",
    "from nilearn.datasets import fetch_haxby\n",
    "from nilearn.image import index_img\n",
    "from nilearn.image import load_img\n",
    "from nilearn.glm.first_level import FirstLevelModel\n",
    "from nilearn.plotting import plot_design_matrix\n",
    "from nilearn.plotting import plot_stat_map\n",
    "from nilearn.plotting import show\n",
    "from nilearn.plotting import view_img"
   ]
  },
  {
   "cell_type": "markdown",
   "metadata": {
    "id": "0JvMi_4nu7h5"
   },
   "source": [
    "Note: the 'from nilearn.glm.first_level import FirstLevelModel' will throw a warning about nilearn.glm being experimental (AKA we are on the cutting edge haha), but we can ignore this for now."
   ]
  },
  {
   "cell_type": "markdown",
   "metadata": {
    "id": "BD04zclWu7h7"
   },
   "source": [
    "### Gather the fMRI and event/behavioral/timing data\n",
    "\n",
    "Next, we will want to get all of the data. Here, we will primarily rely on the fetch_haxby() function. This function will load data from a single participant (subj2) to the location we set for datapath below.\n",
    "\n",
    "#### First, define a variable with the path to the data:"
   ]
  },
  {
   "cell_type": "code",
   "execution_count": 3,
   "metadata": {
    "executionInfo": {
     "elapsed": 29,
     "status": "ok",
     "timestamp": 1705585409443,
     "user": {
      "displayName": "Derek Huffman",
      "userId": "09342400108599564621"
     },
     "user_tz": 300
    },
    "id": "jzG-9trbu7h8"
   },
   "outputs": [],
   "source": [
    "datapath = '.'"
   ]
  },
  {
   "cell_type": "markdown",
   "metadata": {
    "id": "iTHzlYKfu7h9"
   },
   "source": [
    "#### Then, use the fetch_haxby function to load the data:\n",
    "Note: here we give the function the input of the datapath to let it know where to find the data."
   ]
  },
  {
   "cell_type": "code",
   "execution_count": 4,
   "metadata": {
    "executionInfo": {
     "elapsed": 28,
     "status": "ok",
     "timestamp": 1705585409444,
     "user": {
      "displayName": "Derek Huffman",
      "userId": "09342400108599564621"
     },
     "user_tz": 300
    },
    "id": "Mz0FNA4qu7h-"
   },
   "outputs": [],
   "source": [
    "subject_data = fetch_haxby(datapath)"
   ]
  },
  {
   "cell_type": "markdown",
   "metadata": {
    "id": "b6fbJLF8u7iA"
   },
   "source": [
    "Now we can take a look at the subject_data."
   ]
  },
  {
   "cell_type": "code",
   "execution_count": 5,
   "metadata": {
    "colab": {
     "base_uri": "https://localhost:8080/"
    },
    "executionInfo": {
     "elapsed": 27,
     "status": "ok",
     "timestamp": 1705585409444,
     "user": {
      "displayName": "Derek Huffman",
      "userId": "09342400108599564621"
     },
     "user_tz": 300
    },
    "id": "5zAMZROvu7iC",
    "outputId": "b40a8802-d7b8-4a59-c1ce-37aa1984b8d0"
   },
   "outputs": [
    {
     "data": {
      "text/plain": [
       "{'anat': ['./haxby2001/subj2/anat.nii.gz'],\n",
       " 'func': ['./haxby2001/subj2/bold.nii.gz'],\n",
       " 'session_target': ['./haxby2001/subj2/labels.txt'],\n",
       " 'mask_vt': ['./haxby2001/subj2/mask4_vt.nii.gz'],\n",
       " 'mask_face': ['./haxby2001/subj2/mask8b_face_vt.nii.gz'],\n",
       " 'mask_house': ['./haxby2001/subj2/mask8b_house_vt.nii.gz'],\n",
       " 'mask_face_little': ['./haxby2001/subj2/mask8_face_vt.nii.gz'],\n",
       " 'mask_house_little': ['./haxby2001/subj2/mask8_house_vt.nii.gz'],\n",
       " 'mask': './haxby2001/mask.nii.gz',\n",
       " 'description': 'Haxby 2001 results\\n\\n\\nNotes\\n-----\\nResults from a classical fMRI study that investigated the differences between\\nthe neural correlates of face versus object processing in the ventral visual\\nstream. Face and object stimuli showed widely distributed and overlapping\\nresponse patterns.\\n\\nContent\\n-------\\nThe \"simple\" dataset includes\\n    :\\'func\\': Nifti images with bold data\\n    :\\'session_target\\': Text file containing session data\\n    :\\'mask\\': Nifti images with employed mask\\n    :\\'session\\': Text file with condition labels\\n\\n\\nThe full dataset additionally includes\\n    :\\'anat\\': Nifti images with anatomical image\\n    :\\'func\\': Nifti images with bold data\\n    :\\'mask_vt\\': Nifti images with mask for ventral visual/temporal cortex\\n    :\\'mask_face\\': Nifti images with face-reponsive brain regions\\n    :\\'mask_house\\': Nifti images with house-reponsive brain regions\\n    :\\'mask_face_little\\': Spatially more constrained version of the above\\n    :\\'mask_house_little\\': Spatially more constrained version of the above\\n\\n\\nReferences\\n----------\\nFor more information see:\\nPyMVPA provides a tutorial using this dataset :\\nhttp://www.pymvpa.org/tutorial.html\\n\\nMore information about its structure :\\nhttp://dev.pymvpa.org/datadb/haxby2001.html\\n\\n\\n`Haxby, J., Gobbini, M., Furey, M., Ishai, A., Schouten, J.,\\nand Pietrini, P. (2001). Distributed and overlapping representations of\\nfaces and objects in ventral temporal cortex. Science 293, 2425-2430.`\\n\\n\\nLicence: unknown.\\n'}"
      ]
     },
     "execution_count": 5,
     "metadata": {},
     "output_type": "execute_result"
    }
   ],
   "source": [
    "subject_data"
   ]
  },
  {
   "cell_type": "markdown",
   "metadata": {
    "id": "r4fMLqcCu7iE"
   },
   "source": [
    "So, what you might notice above is that for these nilearn datasets, it will essentially load strings that represent the location sof different files. You will note a few files of interest:\n",
    "\n",
    "1) 'anat' = the anatomical / structural image of the participant's brain (T1 MRI)\n",
    "\n",
    "2) 'func' = the functional image of the participant's brain (i.e., fMRI)\n",
    "\n",
    "3) 'mask_vt' = a mask of the ventral temporal lobe, which is important for high-level vision\n",
    "\n",
    "4) 'mask_face' = a mask of voxels that respond to faces (i.e., greater BOLD activity)\n",
    "\n",
    "5) 'mask_house' = a mask of voxels that respond to houses (i.e., greater BOLD activity)\n",
    "\n",
    "6) 'session_target' = the conditions of the dataset (here, labels = frame-by-frame indication of what was happening; chunks = the run or scan number from which that frame came... fMRI are gathered in runs, but the func file above is the concatenation or combination of all of those runs together).\n",
    "\n",
    "In this particular case (for these nilearn datasets), the functional data can be accessed like this:"
   ]
  },
  {
   "cell_type": "code",
   "execution_count": 6,
   "metadata": {
    "executionInfo": {
     "elapsed": 25,
     "status": "ok",
     "timestamp": 1705585409444,
     "user": {
      "displayName": "Derek Huffman",
      "userId": "09342400108599564621"
     },
     "user_tz": 300
    },
    "id": "qXa31R4Ou7iG"
   },
   "outputs": [],
   "source": [
    "fmri = subject_data.func[0]"
   ]
  },
  {
   "cell_type": "markdown",
   "metadata": {
    "id": "AM-nU57vu7iG"
   },
   "source": [
    "Gather the labels for each frame. This information will be necessary for knowing what was happening on each frame of the experiment. The 'labels' column contains the task condition of each frame and the 'chunks' column contains the run information. These will be key features for training and testing the classifier (see below).\n",
    "\n",
    "To load this file, we will use the pandas function read_csv. Note: a CSV file (comma-separated values) is one way of saving data in a file where things are separated by commas. Here, the file is separated by blank spaces, hence the sep=' ' (i.e., notice the blank space between the quotes). This function will create a pandas DataFrame, which is a convenient way of storing this type of data. The DataFrame is similar to a numpy.array, but allows for data with different types in different columns. Similar to a dictionary, you can access the columns with the following syntax, e.g., tr_labels['labels']"
   ]
  },
  {
   "cell_type": "code",
   "execution_count": 7,
   "metadata": {
    "colab": {
     "base_uri": "https://localhost:8080/",
     "height": 419
    },
    "executionInfo": {
     "elapsed": 25,
     "status": "ok",
     "timestamp": 1705585409444,
     "user": {
      "displayName": "Derek Huffman",
      "userId": "09342400108599564621"
     },
     "user_tz": 300
    },
    "id": "YW28DYmEu7iH",
    "outputId": "919f8e0f-2f93-477d-fbd9-b094b68ff7a1"
   },
   "outputs": [
    {
     "data": {
      "text/html": [
       "\n",
       "  <div id=\"df-beaca753-d395-42d0-86d5-a16ce7e1bd7c\" class=\"colab-df-container\">\n",
       "    <div>\n",
       "<style scoped>\n",
       "    .dataframe tbody tr th:only-of-type {\n",
       "        vertical-align: middle;\n",
       "    }\n",
       "\n",
       "    .dataframe tbody tr th {\n",
       "        vertical-align: top;\n",
       "    }\n",
       "\n",
       "    .dataframe thead th {\n",
       "        text-align: right;\n",
       "    }\n",
       "</style>\n",
       "<table border=\"1\" class=\"dataframe\">\n",
       "  <thead>\n",
       "    <tr style=\"text-align: right;\">\n",
       "      <th></th>\n",
       "      <th>labels</th>\n",
       "      <th>chunks</th>\n",
       "    </tr>\n",
       "  </thead>\n",
       "  <tbody>\n",
       "    <tr>\n",
       "      <th>0</th>\n",
       "      <td>rest</td>\n",
       "      <td>0</td>\n",
       "    </tr>\n",
       "    <tr>\n",
       "      <th>1</th>\n",
       "      <td>rest</td>\n",
       "      <td>0</td>\n",
       "    </tr>\n",
       "    <tr>\n",
       "      <th>2</th>\n",
       "      <td>rest</td>\n",
       "      <td>0</td>\n",
       "    </tr>\n",
       "    <tr>\n",
       "      <th>3</th>\n",
       "      <td>rest</td>\n",
       "      <td>0</td>\n",
       "    </tr>\n",
       "    <tr>\n",
       "      <th>4</th>\n",
       "      <td>rest</td>\n",
       "      <td>0</td>\n",
       "    </tr>\n",
       "    <tr>\n",
       "      <th>...</th>\n",
       "      <td>...</td>\n",
       "      <td>...</td>\n",
       "    </tr>\n",
       "    <tr>\n",
       "      <th>1447</th>\n",
       "      <td>rest</td>\n",
       "      <td>11</td>\n",
       "    </tr>\n",
       "    <tr>\n",
       "      <th>1448</th>\n",
       "      <td>rest</td>\n",
       "      <td>11</td>\n",
       "    </tr>\n",
       "    <tr>\n",
       "      <th>1449</th>\n",
       "      <td>rest</td>\n",
       "      <td>11</td>\n",
       "    </tr>\n",
       "    <tr>\n",
       "      <th>1450</th>\n",
       "      <td>rest</td>\n",
       "      <td>11</td>\n",
       "    </tr>\n",
       "    <tr>\n",
       "      <th>1451</th>\n",
       "      <td>rest</td>\n",
       "      <td>11</td>\n",
       "    </tr>\n",
       "  </tbody>\n",
       "</table>\n",
       "<p>1452 rows × 2 columns</p>\n",
       "</div>\n",
       "    <div class=\"colab-df-buttons\">\n",
       "\n",
       "  <div class=\"colab-df-container\">\n",
       "    <button class=\"colab-df-convert\" onclick=\"convertToInteractive('df-beaca753-d395-42d0-86d5-a16ce7e1bd7c')\"\n",
       "            title=\"Convert this dataframe to an interactive table.\"\n",
       "            style=\"display:none;\">\n",
       "\n",
       "  <svg xmlns=\"http://www.w3.org/2000/svg\" height=\"24px\" viewBox=\"0 -960 960 960\">\n",
       "    <path d=\"M120-120v-720h720v720H120Zm60-500h600v-160H180v160Zm220 220h160v-160H400v160Zm0 220h160v-160H400v160ZM180-400h160v-160H180v160Zm440 0h160v-160H620v160ZM180-180h160v-160H180v160Zm440 0h160v-160H620v160Z\"/>\n",
       "  </svg>\n",
       "    </button>\n",
       "\n",
       "  <style>\n",
       "    .colab-df-container {\n",
       "      display:flex;\n",
       "      gap: 12px;\n",
       "    }\n",
       "\n",
       "    .colab-df-convert {\n",
       "      background-color: #E8F0FE;\n",
       "      border: none;\n",
       "      border-radius: 50%;\n",
       "      cursor: pointer;\n",
       "      display: none;\n",
       "      fill: #1967D2;\n",
       "      height: 32px;\n",
       "      padding: 0 0 0 0;\n",
       "      width: 32px;\n",
       "    }\n",
       "\n",
       "    .colab-df-convert:hover {\n",
       "      background-color: #E2EBFA;\n",
       "      box-shadow: 0px 1px 2px rgba(60, 64, 67, 0.3), 0px 1px 3px 1px rgba(60, 64, 67, 0.15);\n",
       "      fill: #174EA6;\n",
       "    }\n",
       "\n",
       "    .colab-df-buttons div {\n",
       "      margin-bottom: 4px;\n",
       "    }\n",
       "\n",
       "    [theme=dark] .colab-df-convert {\n",
       "      background-color: #3B4455;\n",
       "      fill: #D2E3FC;\n",
       "    }\n",
       "\n",
       "    [theme=dark] .colab-df-convert:hover {\n",
       "      background-color: #434B5C;\n",
       "      box-shadow: 0px 1px 3px 1px rgba(0, 0, 0, 0.15);\n",
       "      filter: drop-shadow(0px 1px 2px rgba(0, 0, 0, 0.3));\n",
       "      fill: #FFFFFF;\n",
       "    }\n",
       "  </style>\n",
       "\n",
       "    <script>\n",
       "      const buttonEl =\n",
       "        document.querySelector('#df-beaca753-d395-42d0-86d5-a16ce7e1bd7c button.colab-df-convert');\n",
       "      buttonEl.style.display =\n",
       "        google.colab.kernel.accessAllowed ? 'block' : 'none';\n",
       "\n",
       "      async function convertToInteractive(key) {\n",
       "        const element = document.querySelector('#df-beaca753-d395-42d0-86d5-a16ce7e1bd7c');\n",
       "        const dataTable =\n",
       "          await google.colab.kernel.invokeFunction('convertToInteractive',\n",
       "                                                    [key], {});\n",
       "        if (!dataTable) return;\n",
       "\n",
       "        const docLinkHtml = 'Like what you see? Visit the ' +\n",
       "          '<a target=\"_blank\" href=https://colab.research.google.com/notebooks/data_table.ipynb>data table notebook</a>'\n",
       "          + ' to learn more about interactive tables.';\n",
       "        element.innerHTML = '';\n",
       "        dataTable['output_type'] = 'display_data';\n",
       "        await google.colab.output.renderOutput(dataTable, element);\n",
       "        const docLink = document.createElement('div');\n",
       "        docLink.innerHTML = docLinkHtml;\n",
       "        element.appendChild(docLink);\n",
       "      }\n",
       "    </script>\n",
       "  </div>\n",
       "\n",
       "\n",
       "<div id=\"df-0ca4efb5-7046-4c86-bf4f-ed143b79c96e\">\n",
       "  <button class=\"colab-df-quickchart\" onclick=\"quickchart('df-0ca4efb5-7046-4c86-bf4f-ed143b79c96e')\"\n",
       "            title=\"Suggest charts\"\n",
       "            style=\"display:none;\">\n",
       "\n",
       "<svg xmlns=\"http://www.w3.org/2000/svg\" height=\"24px\"viewBox=\"0 0 24 24\"\n",
       "     width=\"24px\">\n",
       "    <g>\n",
       "        <path d=\"M19 3H5c-1.1 0-2 .9-2 2v14c0 1.1.9 2 2 2h14c1.1 0 2-.9 2-2V5c0-1.1-.9-2-2-2zM9 17H7v-7h2v7zm4 0h-2V7h2v10zm4 0h-2v-4h2v4z\"/>\n",
       "    </g>\n",
       "</svg>\n",
       "  </button>\n",
       "\n",
       "<style>\n",
       "  .colab-df-quickchart {\n",
       "      --bg-color: #E8F0FE;\n",
       "      --fill-color: #1967D2;\n",
       "      --hover-bg-color: #E2EBFA;\n",
       "      --hover-fill-color: #174EA6;\n",
       "      --disabled-fill-color: #AAA;\n",
       "      --disabled-bg-color: #DDD;\n",
       "  }\n",
       "\n",
       "  [theme=dark] .colab-df-quickchart {\n",
       "      --bg-color: #3B4455;\n",
       "      --fill-color: #D2E3FC;\n",
       "      --hover-bg-color: #434B5C;\n",
       "      --hover-fill-color: #FFFFFF;\n",
       "      --disabled-bg-color: #3B4455;\n",
       "      --disabled-fill-color: #666;\n",
       "  }\n",
       "\n",
       "  .colab-df-quickchart {\n",
       "    background-color: var(--bg-color);\n",
       "    border: none;\n",
       "    border-radius: 50%;\n",
       "    cursor: pointer;\n",
       "    display: none;\n",
       "    fill: var(--fill-color);\n",
       "    height: 32px;\n",
       "    padding: 0;\n",
       "    width: 32px;\n",
       "  }\n",
       "\n",
       "  .colab-df-quickchart:hover {\n",
       "    background-color: var(--hover-bg-color);\n",
       "    box-shadow: 0 1px 2px rgba(60, 64, 67, 0.3), 0 1px 3px 1px rgba(60, 64, 67, 0.15);\n",
       "    fill: var(--button-hover-fill-color);\n",
       "  }\n",
       "\n",
       "  .colab-df-quickchart-complete:disabled,\n",
       "  .colab-df-quickchart-complete:disabled:hover {\n",
       "    background-color: var(--disabled-bg-color);\n",
       "    fill: var(--disabled-fill-color);\n",
       "    box-shadow: none;\n",
       "  }\n",
       "\n",
       "  .colab-df-spinner {\n",
       "    border: 2px solid var(--fill-color);\n",
       "    border-color: transparent;\n",
       "    border-bottom-color: var(--fill-color);\n",
       "    animation:\n",
       "      spin 1s steps(1) infinite;\n",
       "  }\n",
       "\n",
       "  @keyframes spin {\n",
       "    0% {\n",
       "      border-color: transparent;\n",
       "      border-bottom-color: var(--fill-color);\n",
       "      border-left-color: var(--fill-color);\n",
       "    }\n",
       "    20% {\n",
       "      border-color: transparent;\n",
       "      border-left-color: var(--fill-color);\n",
       "      border-top-color: var(--fill-color);\n",
       "    }\n",
       "    30% {\n",
       "      border-color: transparent;\n",
       "      border-left-color: var(--fill-color);\n",
       "      border-top-color: var(--fill-color);\n",
       "      border-right-color: var(--fill-color);\n",
       "    }\n",
       "    40% {\n",
       "      border-color: transparent;\n",
       "      border-right-color: var(--fill-color);\n",
       "      border-top-color: var(--fill-color);\n",
       "    }\n",
       "    60% {\n",
       "      border-color: transparent;\n",
       "      border-right-color: var(--fill-color);\n",
       "    }\n",
       "    80% {\n",
       "      border-color: transparent;\n",
       "      border-right-color: var(--fill-color);\n",
       "      border-bottom-color: var(--fill-color);\n",
       "    }\n",
       "    90% {\n",
       "      border-color: transparent;\n",
       "      border-bottom-color: var(--fill-color);\n",
       "    }\n",
       "  }\n",
       "</style>\n",
       "\n",
       "  <script>\n",
       "    async function quickchart(key) {\n",
       "      const quickchartButtonEl =\n",
       "        document.querySelector('#' + key + ' button');\n",
       "      quickchartButtonEl.disabled = true;  // To prevent multiple clicks.\n",
       "      quickchartButtonEl.classList.add('colab-df-spinner');\n",
       "      try {\n",
       "        const charts = await google.colab.kernel.invokeFunction(\n",
       "            'suggestCharts', [key], {});\n",
       "      } catch (error) {\n",
       "        console.error('Error during call to suggestCharts:', error);\n",
       "      }\n",
       "      quickchartButtonEl.classList.remove('colab-df-spinner');\n",
       "      quickchartButtonEl.classList.add('colab-df-quickchart-complete');\n",
       "    }\n",
       "    (() => {\n",
       "      let quickchartButtonEl =\n",
       "        document.querySelector('#df-0ca4efb5-7046-4c86-bf4f-ed143b79c96e button');\n",
       "      quickchartButtonEl.style.display =\n",
       "        google.colab.kernel.accessAllowed ? 'block' : 'none';\n",
       "    })();\n",
       "  </script>\n",
       "</div>\n",
       "    </div>\n",
       "  </div>\n"
      ],
      "text/plain": [
       "     labels  chunks\n",
       "0      rest       0\n",
       "1      rest       0\n",
       "2      rest       0\n",
       "3      rest       0\n",
       "4      rest       0\n",
       "...     ...     ...\n",
       "1447   rest      11\n",
       "1448   rest      11\n",
       "1449   rest      11\n",
       "1450   rest      11\n",
       "1451   rest      11\n",
       "\n",
       "[1452 rows x 2 columns]"
      ]
     },
     "execution_count": 7,
     "metadata": {},
     "output_type": "execute_result"
    }
   ],
   "source": [
    "tr_info = pd.read_csv(subject_data.session_target[0], sep=' ')\n",
    "tr_info"
   ]
  },
  {
   "cell_type": "markdown",
   "metadata": {
    "id": "qGAvlZ6Iu7iI"
   },
   "source": [
    "## Now we need to set up the decoder (yes, machine learning, here we come!)"
   ]
  },
  {
   "cell_type": "code",
   "execution_count": 8,
   "metadata": {
    "executionInfo": {
     "elapsed": 23,
     "status": "ok",
     "timestamp": 1705585409444,
     "user": {
      "displayName": "Derek Huffman",
      "userId": "09342400108599564621"
     },
     "user_tz": 300
    },
    "id": "06yprkPeu7iJ"
   },
   "outputs": [],
   "source": [
    "from nilearn.decoding import Decoder\n",
    "from sklearn.model_selection import LeaveOneGroupOut"
   ]
  },
  {
   "cell_type": "markdown",
   "metadata": {
    "id": "SRMKKNBTu7iJ"
   },
   "source": [
    "Set up a function for printing the classification results."
   ]
  },
  {
   "cell_type": "code",
   "execution_count": 9,
   "metadata": {
    "executionInfo": {
     "elapsed": 22,
     "status": "ok",
     "timestamp": 1705585409444,
     "user": {
      "displayName": "Derek Huffman",
      "userId": "09342400108599564621"
     },
     "user_tz": 300
    },
    "id": "yyrnfGXIu7iK"
   },
   "outputs": [],
   "source": [
    "def print_class_accuracy(d):\n",
    "    \"\"\"\n",
    "    A function for printing the classification results.\n",
    "\n",
    "    Parameters\n",
    "    ----------\n",
    "    d : a fit decoder\n",
    "        A model that was fit via nilearn\n",
    "\n",
    "    Returns\n",
    "    -------\n",
    "    Out : None\n",
    "        Prints the classification accuracy and chance level\n",
    "    \"\"\"\n",
    "    classification_accuracy = np.mean(list(d.cv_scores_.values()))\n",
    "    chance_level = 1. / len(d.classes_)\n",
    "    print('Classifying {}'.format(d.classes_))\n",
    "    print('Classification accuracy: {:.4f} / Chance level: {}'.format(\n",
    "        classification_accuracy, chance_level))\n",
    "    return classification_accuracy\n",
    "\n"
   ]
  },
  {
   "cell_type": "markdown",
   "metadata": {
    "id": "hU9UUFmRu7iL"
   },
   "source": [
    "### We will start by looking at the classification of faces vs. houses (i.e., related to our last assignment in that employed an activation analysis).\n",
    "\n",
    "We will start by training and testing the classifier on individual frames of fMRI data. That is, we have 121 frames per run. Each block of trials is 24 seconds long, so we will be using 9 frames from each of those blocks per condition per run. For example, here you can see the labels for scissors for the first run."
   ]
  },
  {
   "cell_type": "code",
   "execution_count": 10,
   "metadata": {
    "colab": {
     "base_uri": "https://localhost:8080/"
    },
    "executionInfo": {
     "elapsed": 23,
     "status": "ok",
     "timestamp": 1705585409445,
     "user": {
      "displayName": "Derek Huffman",
      "userId": "09342400108599564621"
     },
     "user_tz": 300
    },
    "id": "S68TRuQdu7iM",
    "outputId": "c3a85834-e6d9-4ebc-a62b-96889d90c13b"
   },
   "outputs": [
    {
     "name": "stdout",
     "output_type": "stream",
     "text": [
      "0         rest\n",
      "1         rest\n",
      "2         rest\n",
      "3         rest\n",
      "4         rest\n",
      "5         rest\n",
      "6     scissors\n",
      "7     scissors\n",
      "8     scissors\n",
      "9     scissors\n",
      "10    scissors\n",
      "11    scissors\n",
      "12    scissors\n",
      "13    scissors\n",
      "14    scissors\n",
      "15        rest\n",
      "16        rest\n",
      "17        rest\n",
      "18        rest\n",
      "19        rest\n",
      "Name: labels, dtype: object\n"
     ]
    }
   ],
   "source": [
    "print(tr_info['labels'][0:20])"
   ]
  },
  {
   "cell_type": "code",
   "execution_count": 11,
   "metadata": {
    "colab": {
     "base_uri": "https://localhost:8080/",
     "height": 35
    },
    "executionInfo": {
     "elapsed": 12,
     "status": "ok",
     "timestamp": 1705585409445,
     "user": {
      "displayName": "Derek Huffman",
      "userId": "09342400108599564621"
     },
     "user_tz": 300
    },
    "id": "o41zIKtUu7iM",
    "outputId": "47b4655a-cdcd-4fbe-f758-b51920820f01"
   },
   "outputs": [
    {
     "data": {
      "application/vnd.google.colaboratory.intrinsic+json": {
       "type": "string"
      },
      "text/plain": [
       "'./haxby2001/subj2/bold.nii.gz'"
      ]
     },
     "execution_count": 11,
     "metadata": {},
     "output_type": "execute_result"
    }
   ],
   "source": [
    "fmri"
   ]
  },
  {
   "cell_type": "code",
   "execution_count": 12,
   "metadata": {
    "colab": {
     "base_uri": "https://localhost:8080/"
    },
    "executionInfo": {
     "elapsed": 4785,
     "status": "ok",
     "timestamp": 1705585414219,
     "user": {
      "displayName": "Derek Huffman",
      "userId": "09342400108599564621"
     },
     "user_tz": 300
    },
    "id": "2nz3aT2cu7iN",
    "outputId": "a4a15630-17ee-4420-ed01-5e4a8090886a"
   },
   "outputs": [
    {
     "name": "stdout",
     "output_type": "stream",
     "text": [
      "['face' 'house']\n"
     ]
    }
   ],
   "source": [
    "condition_mask = tr_info['labels'].isin(['face', 'house'])\n",
    "conditions_sel = tr_info['labels'][condition_mask]\n",
    "run_label = tr_info['chunks'][condition_mask]\n",
    "fmri_sel = index_img(fmri, condition_mask)\n",
    "\n",
    "# Confirm that we now have 2 conditions\n",
    "print(conditions_sel.unique())"
   ]
  },
  {
   "cell_type": "markdown",
   "metadata": {
    "id": "L4q7JP9zu7iO"
   },
   "source": [
    "### And let's see how well a classifier can distinguish trials in which participants are viewing faces vs. trials in which they are viewing houses.\n",
    "\n",
    "#### Some notes about the classifier\n",
    "\n",
    "1) Here, we will use a support vector machine (SVM; estimator='svc'). The SVM is commonly used in fMRI because we have a lot of features (i.e., voxels) but a limited number of trials. Some machine learning classifiers will suffer from overfitting (i.e., not generalizing well to new data) because they have a lot of free parameters. The SVM does not change its number of parameters with more features, therefore it is a good technique for fMRI. More specifically, we will be using a linear SVM, which also has benefits with respect to interpretting the results. Typically, in the case of a linear classifier, we would say that if a region can classify between categories of stimuli, then it contains information about that category. This is a bit beyond the scope of what you need to know for this class, but with a nonlinear classifier, it is more difficult to know whether or not that region \"contains the representation\" (vs. other downstream regions, which would be able to \"read this information out\").\n",
    "\n",
    "2) We will use an approach called *cross-validation*. This is a common approach in machine learning and it is the process of partitioning your data into a \"training set\" and a \"test set.\" The basic idea is that you want to train and test your classifier on indepdent data to see how well it can generalize to new examples. Our measure of interest is the generalization performance on the test data. One thing to note in the context of fMRI data is that timepoints that come from the same run are *not* independent. For example, the slow timing of the hemodynamic response function makes nearby timepoints more similar to each other (i.e., the are correlated so they are not indepdendent). In a nutshell, it is best practice to train and test the classifier on data from different runs. So, here, we employ what is called leave-one-run-out cross-validation, where we train and test our classifier on data from each run. For example, on the first iteration, we would train our classifier on the data from runs 1 to 11 and then test the classifier on the data from run 0. The next iteration we would train the classifier on runs 0 and 2 to 11 and then test it on run 1, and so forth."
   ]
  },
  {
   "cell_type": "code",
   "execution_count": 13,
   "metadata": {
    "colab": {
     "base_uri": "https://localhost:8080/"
    },
    "executionInfo": {
     "elapsed": 2825,
     "status": "ok",
     "timestamp": 1705585417034,
     "user": {
      "displayName": "Derek Huffman",
      "userId": "09342400108599564621"
     },
     "user_tz": 300
    },
    "id": "HIKSXTPru7iP",
    "outputId": "c50aa994-8997-4cdb-9c92-6f78a4018f76"
   },
   "outputs": [
    {
     "name": "stderr",
     "output_type": "stream",
     "text": [
      "/usr/local/lib/python3.10/dist-packages/nilearn/image/resampling.py:493: UserWarning: The provided image has no sform in its header. Please check the provided file. Results may not be as expected.\n",
      "  warnings.warn(\n"
     ]
    },
    {
     "data": {
      "text/plain": [
       "[1.0, 1.0, 1.0, 1.0, 1.0, 1.0, 1.0, 1.0, 0.9444444444444444, 1.0, 1.0, 1.0]"
      ]
     },
     "execution_count": 13,
     "metadata": {},
     "output_type": "execute_result"
    }
   ],
   "source": [
    "cv = LeaveOneGroupOut()\n",
    "decoder = Decoder(estimator='svc', mask=subject_data.mask_vt[0],\n",
    "                  standardize='zscore_sample', screening_percentile=100,\n",
    "                  scoring='accuracy', cv=cv)\n",
    "\n",
    "# Compute the prediction accuracy for the different folds (i.e. session)\n",
    "decoder.fit(fmri_sel, conditions_sel, groups=run_label)\n",
    "\n",
    "decoder.cv_scores_['face']"
   ]
  },
  {
   "cell_type": "markdown",
   "metadata": {
    "id": "YdN-Fciuu7iQ"
   },
   "source": [
    "What you see above is the classification accuracy for each of the validation runs. Notice that there are 12 accuracy scores here? These correspond to the 12 fMRI runs! We can calculate the average classification accuracy across all of these cross-validations, which will give an overall measure of accuracy."
   ]
  },
  {
   "cell_type": "code",
   "execution_count": 14,
   "metadata": {
    "colab": {
     "base_uri": "https://localhost:8080/"
    },
    "executionInfo": {
     "elapsed": 18,
     "status": "ok",
     "timestamp": 1705585417034,
     "user": {
      "displayName": "Derek Huffman",
      "userId": "09342400108599564621"
     },
     "user_tz": 300
    },
    "id": "ruqc_q1Lu7iQ",
    "outputId": "77cd1f32-cb8a-4c0f-e708-01f286c6899f"
   },
   "outputs": [
    {
     "name": "stdout",
     "output_type": "stream",
     "text": [
      "Classifying ['face' 'house']\n",
      "Classification accuracy: 0.9954 / Chance level: 0.5\n"
     ]
    }
   ],
   "source": [
    "res_trs_vtc = print_class_accuracy(decoder)"
   ]
  },
  {
   "cell_type": "markdown",
   "metadata": {
    "id": "K3hru1Q0u7iR"
   },
   "source": [
    "Well, I think that is pretty impressive! What do you think? (Remember, this is classifying single frames/images of fMRI data!)\n",
    "\n",
    "\n",
    "### Now, let's combine the code above into a function so that we can re-use this framework\n",
    "\n",
    "It is generally better to us a function rather than copying and pasting the same code all over the place. For example, there is a smaller chance of error and it is more (human) readable. So, here let's get the pieces above into a workable function."
   ]
  },
  {
   "cell_type": "code",
   "execution_count": 15,
   "metadata": {
    "executionInfo": {
     "elapsed": 8,
     "status": "ok",
     "timestamp": 1705585417035,
     "user": {
      "displayName": "Derek Huffman",
      "userId": "09342400108599564621"
     },
     "user_tz": 300
    },
    "id": "Or2lFOOru7iR"
   },
   "outputs": [],
   "source": [
    "def select_data(fmri_str, behavioral, conditions_arr):\n",
    "    \"\"\"\n",
    "    Function for selecting data from a given conditions array.\n",
    "\n",
    "    Parameters\n",
    "    ----------\n",
    "    fmri_str : string\n",
    "        A string indicating the path and name of the fMRI data\n",
    "    behavioral : pandas.DataFrame\n",
    "        The behavioral conditions (here, expecting the Haxby data\n",
    "        with the colums of labels and chunks)\n",
    "    conditions_arr : a numpy.array\n",
    "        A 1D numpy.array with the conditions to include\n",
    "\n",
    "    Returns\n",
    "    -------\n",
    "    fmri_sel : the fMRI data from the selected frames\n",
    "    conditions_sel : a numpy.array with the conditions labels\n",
    "    run_sel : a numpy.array with the run labels\n",
    "    \"\"\"\n",
    "    condition_mask = behavioral['labels'].isin(conditions_arr)\n",
    "    conditions_sel = behavioral['labels'][condition_mask]\n",
    "    run_sel = behavioral['chunks'][condition_mask]\n",
    "    fmri_sel = index_img(fmri_str, condition_mask)\n",
    "    return fmri_sel, conditions_sel, run_sel\n",
    "\n",
    "\n",
    "def svm_loro_cv(fmri_data, behav_df, mask, conditions_arr):\n",
    "    \"\"\"\n",
    "    Wrapper for running LORO cross validation with an SVM.\n",
    "\n",
    "    Parameters\n",
    "    ----------\n",
    "    fmri_data : string\n",
    "        A string indicating the path and name of the fMRI data\n",
    "    behav_df : pandas.DataFrame\n",
    "        The behavioral conditions (here, expecting the Haxby data\n",
    "        with the columns of labels and chunks)\n",
    "    conditions_arr : a numpy.array\n",
    "        A 1D numpy.array with the conditions to include\n",
    "\n",
    "    Returns\n",
    "    -------\n",
    "    Out : decoder\n",
    "        Prints the decoding results and returns the fit nilearn decoder.\n",
    "    \"\"\"\n",
    "    cv = LeaveOneGroupOut()\n",
    "    fmri_sel, cond_sel, run_sel = select_data(fmri_data, behav_df,\n",
    "                                              conditions_arr)\n",
    "    decoder = Decoder(estimator='svc', mask=mask, standardize='zscore_sample',\n",
    "                      screening_percentile=100, scoring='accuracy', cv=cv)\n",
    "    decoder.fit(fmri_sel, cond_sel, groups=run_sel)\n",
    "    avg_class_accuracy = print_class_accuracy(decoder)\n",
    "    return decoder\n",
    "\n"
   ]
  },
  {
   "cell_type": "markdown",
   "metadata": {
    "id": "GiJixv8Ju7iS"
   },
   "source": [
    "Let's verify this gives us the same exact values as before:"
   ]
  },
  {
   "cell_type": "code",
   "execution_count": 16,
   "metadata": {
    "colab": {
     "base_uri": "https://localhost:8080/"
    },
    "executionInfo": {
     "elapsed": 9186,
     "status": "ok",
     "timestamp": 1705585426214,
     "user": {
      "displayName": "Derek Huffman",
      "userId": "09342400108599564621"
     },
     "user_tz": 300
    },
    "id": "KPECiykBu7iT",
    "outputId": "dd4ac6af-c775-494c-a02a-1f8b5c03f698"
   },
   "outputs": [
    {
     "name": "stderr",
     "output_type": "stream",
     "text": [
      "/usr/local/lib/python3.10/dist-packages/nilearn/image/resampling.py:493: UserWarning: The provided image has no sform in its header. Please check the provided file. Results may not be as expected.\n",
      "  warnings.warn(\n"
     ]
    },
    {
     "name": "stdout",
     "output_type": "stream",
     "text": [
      "Classifying ['face' 'house']\n",
      "Classification accuracy: 0.9954 / Chance level: 0.5\n"
     ]
    },
    {
     "data": {
      "text/plain": [
       "[1.0, 1.0, 1.0, 1.0, 1.0, 1.0, 1.0, 1.0, 0.9444444444444444, 1.0, 1.0, 1.0]"
      ]
     },
     "execution_count": 16,
     "metadata": {},
     "output_type": "execute_result"
    }
   ],
   "source": [
    "res = svm_loro_cv(fmri, tr_info, subject_data.mask_vt[0], np.array(('face', 'house')))\n",
    "res.cv_scores_['face']"
   ]
  },
  {
   "cell_type": "markdown",
   "metadata": {
    "id": "i6G8c3t0u7iT"
   },
   "source": [
    "##### Looks like it worked!"
   ]
  },
  {
   "cell_type": "markdown",
   "metadata": {
    "id": "EzKWzqzCu7iU"
   },
   "source": [
    "### Now, we will want to see what happens if we restrict our analysis to specific regions of interest\n",
    "\n",
    "#### How about looking at the house-selective voxels?"
   ]
  },
  {
   "cell_type": "code",
   "execution_count": 17,
   "metadata": {
    "colab": {
     "base_uri": "https://localhost:8080/"
    },
    "executionInfo": {
     "elapsed": 7920,
     "status": "ok",
     "timestamp": 1705585434131,
     "user": {
      "displayName": "Derek Huffman",
      "userId": "09342400108599564621"
     },
     "user_tz": 300
    },
    "id": "LlO2EejFu7iV",
    "outputId": "987cf4f0-9a9b-4766-b927-07155da7a961"
   },
   "outputs": [
    {
     "name": "stderr",
     "output_type": "stream",
     "text": [
      "/usr/local/lib/python3.10/dist-packages/nilearn/image/resampling.py:493: UserWarning: The provided image has no sform in its header. Please check the provided file. Results may not be as expected.\n",
      "  warnings.warn(\n"
     ]
    },
    {
     "name": "stdout",
     "output_type": "stream",
     "text": [
      "Classifying ['face' 'house']\n",
      "Classification accuracy: 0.9537 / Chance level: 0.5\n"
     ]
    }
   ],
   "source": [
    "res = svm_loro_cv(fmri, tr_info, subject_data.mask_house[0],\n",
    "                  np.array(('face', 'house')))"
   ]
  },
  {
   "cell_type": "markdown",
   "metadata": {
    "id": "hHEa6Sa0u7iW"
   },
   "source": [
    "Quite similar to the overall accuracy throughout the ventral temporal cortex."
   ]
  },
  {
   "cell_type": "markdown",
   "metadata": {
    "id": "LII4koMzu7iW"
   },
   "source": [
    "### Now, we will want to look at other categories: how selective is the \"place\" area?\n",
    "\n",
    "Here, we will look at how well this region can classify other categories of stimuli: cat vs. shoe."
   ]
  },
  {
   "cell_type": "code",
   "execution_count": 18,
   "metadata": {
    "colab": {
     "base_uri": "https://localhost:8080/"
    },
    "executionInfo": {
     "elapsed": 6086,
     "status": "ok",
     "timestamp": 1705585440212,
     "user": {
      "displayName": "Derek Huffman",
      "userId": "09342400108599564621"
     },
     "user_tz": 300
    },
    "id": "iLgIkkgEu7iX",
    "outputId": "1ccac94c-a451-4499-9973-b610566a1012"
   },
   "outputs": [
    {
     "name": "stderr",
     "output_type": "stream",
     "text": [
      "/usr/local/lib/python3.10/dist-packages/nilearn/image/resampling.py:493: UserWarning: The provided image has no sform in its header. Please check the provided file. Results may not be as expected.\n",
      "  warnings.warn(\n"
     ]
    },
    {
     "name": "stdout",
     "output_type": "stream",
     "text": [
      "Classifying ['cat' 'shoe']\n",
      "Classification accuracy: 0.7963 / Chance level: 0.5\n"
     ]
    }
   ],
   "source": [
    "res = svm_loro_cv(fmri, tr_info, subject_data.mask_house[0],\n",
    "                  np.array(('cat', 'shoe')))"
   ]
  },
  {
   "cell_type": "markdown",
   "metadata": {
    "id": "g9oAant_u7iX"
   },
   "source": [
    "#### Question 1\n",
    "\n",
    "What does it mean that the \"house-selective\" region can classify between different categories of visual stimuli?"
   ]
  },
  {
   "cell_type": "markdown",
   "metadata": {
    "id": "1ogdsGWru7iX"
   },
   "source": [
    "## Now, let's try running the decoder on the output from a general linear model (GLM)\n",
    "\n",
    "The steps above were fitting / testing the classifier on individual fMRI frames (i.e., TRs; the images that took place during the viewing of images from different categories). However, these could each be relatively noisy and it is generally better to run a GLM to estimate activation to different trials/stimuli/etc. Below, we will slightly modify our code from last week to gather activity in response to each category for each run.\n",
    "\n",
    "### First, let's set up our events DataFrame so that we can fit the models (GLMs)"
   ]
  },
  {
   "cell_type": "markdown",
   "metadata": {
    "id": "6ePxkLMHu7iY"
   },
   "source": [
    "Gather the event timing (onsets and durations), which we will use to set up our models (see below). The difference between tr_info (above) and events (below) is that the former contains information about what is happening for each frame of the fMRI data while the latter shows the exact times (in seconds) at which different events happen.\n",
    "\n",
    "NOTE WELL: before you run the following line of code, you need to get the events.csv file into Google Colaboratory's workspace. Here, the easiest way to do this is to click on the \"Files\" icon on the left side of the screen (looks like a folder), then drag and drop the events.csv file here. If you get an error on this line, then it probably means that you need to upload this file."
   ]
  },
  {
   "cell_type": "code",
   "execution_count": 19,
   "metadata": {
    "colab": {
     "base_uri": "https://localhost:8080/",
     "height": 419
    },
    "executionInfo": {
     "elapsed": 11,
     "status": "ok",
     "timestamp": 1705585440213,
     "user": {
      "displayName": "Derek Huffman",
      "userId": "09342400108599564621"
     },
     "user_tz": 300
    },
    "id": "-2fX17wPu7iY",
    "outputId": "500b5375-3f6d-45d8-c7af-c92ac527eb4b"
   },
   "outputs": [
    {
     "data": {
      "text/html": [
       "\n",
       "  <div id=\"df-ebc9a2b6-a7e4-4121-b8b5-d0f106f62461\" class=\"colab-df-container\">\n",
       "    <div>\n",
       "<style scoped>\n",
       "    .dataframe tbody tr th:only-of-type {\n",
       "        vertical-align: middle;\n",
       "    }\n",
       "\n",
       "    .dataframe tbody tr th {\n",
       "        vertical-align: top;\n",
       "    }\n",
       "\n",
       "    .dataframe thead th {\n",
       "        text-align: right;\n",
       "    }\n",
       "</style>\n",
       "<table border=\"1\" class=\"dataframe\">\n",
       "  <thead>\n",
       "    <tr style=\"text-align: right;\">\n",
       "      <th></th>\n",
       "      <th>trial_type</th>\n",
       "      <th>run</th>\n",
       "      <th>onset</th>\n",
       "      <th>duration</th>\n",
       "    </tr>\n",
       "  </thead>\n",
       "  <tbody>\n",
       "    <tr>\n",
       "      <th>0</th>\n",
       "      <td>scissors</td>\n",
       "      <td>0</td>\n",
       "      <td>12.0</td>\n",
       "      <td>24.0</td>\n",
       "    </tr>\n",
       "    <tr>\n",
       "      <th>1</th>\n",
       "      <td>face</td>\n",
       "      <td>0</td>\n",
       "      <td>48.0</td>\n",
       "      <td>24.0</td>\n",
       "    </tr>\n",
       "    <tr>\n",
       "      <th>2</th>\n",
       "      <td>cat</td>\n",
       "      <td>0</td>\n",
       "      <td>84.0</td>\n",
       "      <td>24.0</td>\n",
       "    </tr>\n",
       "    <tr>\n",
       "      <th>3</th>\n",
       "      <td>shoe</td>\n",
       "      <td>0</td>\n",
       "      <td>120.0</td>\n",
       "      <td>24.0</td>\n",
       "    </tr>\n",
       "    <tr>\n",
       "      <th>4</th>\n",
       "      <td>house</td>\n",
       "      <td>0</td>\n",
       "      <td>156.0</td>\n",
       "      <td>24.0</td>\n",
       "    </tr>\n",
       "    <tr>\n",
       "      <th>...</th>\n",
       "      <td>...</td>\n",
       "      <td>...</td>\n",
       "      <td>...</td>\n",
       "      <td>...</td>\n",
       "    </tr>\n",
       "    <tr>\n",
       "      <th>91</th>\n",
       "      <td>scrambledpix</td>\n",
       "      <td>11</td>\n",
       "      <td>120.0</td>\n",
       "      <td>24.0</td>\n",
       "    </tr>\n",
       "    <tr>\n",
       "      <th>92</th>\n",
       "      <td>face</td>\n",
       "      <td>11</td>\n",
       "      <td>156.0</td>\n",
       "      <td>24.0</td>\n",
       "    </tr>\n",
       "    <tr>\n",
       "      <th>93</th>\n",
       "      <td>shoe</td>\n",
       "      <td>11</td>\n",
       "      <td>192.0</td>\n",
       "      <td>24.0</td>\n",
       "    </tr>\n",
       "    <tr>\n",
       "      <th>94</th>\n",
       "      <td>cat</td>\n",
       "      <td>11</td>\n",
       "      <td>228.0</td>\n",
       "      <td>24.0</td>\n",
       "    </tr>\n",
       "    <tr>\n",
       "      <th>95</th>\n",
       "      <td>scissors</td>\n",
       "      <td>11</td>\n",
       "      <td>264.0</td>\n",
       "      <td>24.0</td>\n",
       "    </tr>\n",
       "  </tbody>\n",
       "</table>\n",
       "<p>96 rows × 4 columns</p>\n",
       "</div>\n",
       "    <div class=\"colab-df-buttons\">\n",
       "\n",
       "  <div class=\"colab-df-container\">\n",
       "    <button class=\"colab-df-convert\" onclick=\"convertToInteractive('df-ebc9a2b6-a7e4-4121-b8b5-d0f106f62461')\"\n",
       "            title=\"Convert this dataframe to an interactive table.\"\n",
       "            style=\"display:none;\">\n",
       "\n",
       "  <svg xmlns=\"http://www.w3.org/2000/svg\" height=\"24px\" viewBox=\"0 -960 960 960\">\n",
       "    <path d=\"M120-120v-720h720v720H120Zm60-500h600v-160H180v160Zm220 220h160v-160H400v160Zm0 220h160v-160H400v160ZM180-400h160v-160H180v160Zm440 0h160v-160H620v160ZM180-180h160v-160H180v160Zm440 0h160v-160H620v160Z\"/>\n",
       "  </svg>\n",
       "    </button>\n",
       "\n",
       "  <style>\n",
       "    .colab-df-container {\n",
       "      display:flex;\n",
       "      gap: 12px;\n",
       "    }\n",
       "\n",
       "    .colab-df-convert {\n",
       "      background-color: #E8F0FE;\n",
       "      border: none;\n",
       "      border-radius: 50%;\n",
       "      cursor: pointer;\n",
       "      display: none;\n",
       "      fill: #1967D2;\n",
       "      height: 32px;\n",
       "      padding: 0 0 0 0;\n",
       "      width: 32px;\n",
       "    }\n",
       "\n",
       "    .colab-df-convert:hover {\n",
       "      background-color: #E2EBFA;\n",
       "      box-shadow: 0px 1px 2px rgba(60, 64, 67, 0.3), 0px 1px 3px 1px rgba(60, 64, 67, 0.15);\n",
       "      fill: #174EA6;\n",
       "    }\n",
       "\n",
       "    .colab-df-buttons div {\n",
       "      margin-bottom: 4px;\n",
       "    }\n",
       "\n",
       "    [theme=dark] .colab-df-convert {\n",
       "      background-color: #3B4455;\n",
       "      fill: #D2E3FC;\n",
       "    }\n",
       "\n",
       "    [theme=dark] .colab-df-convert:hover {\n",
       "      background-color: #434B5C;\n",
       "      box-shadow: 0px 1px 3px 1px rgba(0, 0, 0, 0.15);\n",
       "      filter: drop-shadow(0px 1px 2px rgba(0, 0, 0, 0.3));\n",
       "      fill: #FFFFFF;\n",
       "    }\n",
       "  </style>\n",
       "\n",
       "    <script>\n",
       "      const buttonEl =\n",
       "        document.querySelector('#df-ebc9a2b6-a7e4-4121-b8b5-d0f106f62461 button.colab-df-convert');\n",
       "      buttonEl.style.display =\n",
       "        google.colab.kernel.accessAllowed ? 'block' : 'none';\n",
       "\n",
       "      async function convertToInteractive(key) {\n",
       "        const element = document.querySelector('#df-ebc9a2b6-a7e4-4121-b8b5-d0f106f62461');\n",
       "        const dataTable =\n",
       "          await google.colab.kernel.invokeFunction('convertToInteractive',\n",
       "                                                    [key], {});\n",
       "        if (!dataTable) return;\n",
       "\n",
       "        const docLinkHtml = 'Like what you see? Visit the ' +\n",
       "          '<a target=\"_blank\" href=https://colab.research.google.com/notebooks/data_table.ipynb>data table notebook</a>'\n",
       "          + ' to learn more about interactive tables.';\n",
       "        element.innerHTML = '';\n",
       "        dataTable['output_type'] = 'display_data';\n",
       "        await google.colab.output.renderOutput(dataTable, element);\n",
       "        const docLink = document.createElement('div');\n",
       "        docLink.innerHTML = docLinkHtml;\n",
       "        element.appendChild(docLink);\n",
       "      }\n",
       "    </script>\n",
       "  </div>\n",
       "\n",
       "\n",
       "<div id=\"df-1289317d-9c91-4e54-a0fe-0534d5f03b8b\">\n",
       "  <button class=\"colab-df-quickchart\" onclick=\"quickchart('df-1289317d-9c91-4e54-a0fe-0534d5f03b8b')\"\n",
       "            title=\"Suggest charts\"\n",
       "            style=\"display:none;\">\n",
       "\n",
       "<svg xmlns=\"http://www.w3.org/2000/svg\" height=\"24px\"viewBox=\"0 0 24 24\"\n",
       "     width=\"24px\">\n",
       "    <g>\n",
       "        <path d=\"M19 3H5c-1.1 0-2 .9-2 2v14c0 1.1.9 2 2 2h14c1.1 0 2-.9 2-2V5c0-1.1-.9-2-2-2zM9 17H7v-7h2v7zm4 0h-2V7h2v10zm4 0h-2v-4h2v4z\"/>\n",
       "    </g>\n",
       "</svg>\n",
       "  </button>\n",
       "\n",
       "<style>\n",
       "  .colab-df-quickchart {\n",
       "      --bg-color: #E8F0FE;\n",
       "      --fill-color: #1967D2;\n",
       "      --hover-bg-color: #E2EBFA;\n",
       "      --hover-fill-color: #174EA6;\n",
       "      --disabled-fill-color: #AAA;\n",
       "      --disabled-bg-color: #DDD;\n",
       "  }\n",
       "\n",
       "  [theme=dark] .colab-df-quickchart {\n",
       "      --bg-color: #3B4455;\n",
       "      --fill-color: #D2E3FC;\n",
       "      --hover-bg-color: #434B5C;\n",
       "      --hover-fill-color: #FFFFFF;\n",
       "      --disabled-bg-color: #3B4455;\n",
       "      --disabled-fill-color: #666;\n",
       "  }\n",
       "\n",
       "  .colab-df-quickchart {\n",
       "    background-color: var(--bg-color);\n",
       "    border: none;\n",
       "    border-radius: 50%;\n",
       "    cursor: pointer;\n",
       "    display: none;\n",
       "    fill: var(--fill-color);\n",
       "    height: 32px;\n",
       "    padding: 0;\n",
       "    width: 32px;\n",
       "  }\n",
       "\n",
       "  .colab-df-quickchart:hover {\n",
       "    background-color: var(--hover-bg-color);\n",
       "    box-shadow: 0 1px 2px rgba(60, 64, 67, 0.3), 0 1px 3px 1px rgba(60, 64, 67, 0.15);\n",
       "    fill: var(--button-hover-fill-color);\n",
       "  }\n",
       "\n",
       "  .colab-df-quickchart-complete:disabled,\n",
       "  .colab-df-quickchart-complete:disabled:hover {\n",
       "    background-color: var(--disabled-bg-color);\n",
       "    fill: var(--disabled-fill-color);\n",
       "    box-shadow: none;\n",
       "  }\n",
       "\n",
       "  .colab-df-spinner {\n",
       "    border: 2px solid var(--fill-color);\n",
       "    border-color: transparent;\n",
       "    border-bottom-color: var(--fill-color);\n",
       "    animation:\n",
       "      spin 1s steps(1) infinite;\n",
       "  }\n",
       "\n",
       "  @keyframes spin {\n",
       "    0% {\n",
       "      border-color: transparent;\n",
       "      border-bottom-color: var(--fill-color);\n",
       "      border-left-color: var(--fill-color);\n",
       "    }\n",
       "    20% {\n",
       "      border-color: transparent;\n",
       "      border-left-color: var(--fill-color);\n",
       "      border-top-color: var(--fill-color);\n",
       "    }\n",
       "    30% {\n",
       "      border-color: transparent;\n",
       "      border-left-color: var(--fill-color);\n",
       "      border-top-color: var(--fill-color);\n",
       "      border-right-color: var(--fill-color);\n",
       "    }\n",
       "    40% {\n",
       "      border-color: transparent;\n",
       "      border-right-color: var(--fill-color);\n",
       "      border-top-color: var(--fill-color);\n",
       "    }\n",
       "    60% {\n",
       "      border-color: transparent;\n",
       "      border-right-color: var(--fill-color);\n",
       "    }\n",
       "    80% {\n",
       "      border-color: transparent;\n",
       "      border-right-color: var(--fill-color);\n",
       "      border-bottom-color: var(--fill-color);\n",
       "    }\n",
       "    90% {\n",
       "      border-color: transparent;\n",
       "      border-bottom-color: var(--fill-color);\n",
       "    }\n",
       "  }\n",
       "</style>\n",
       "\n",
       "  <script>\n",
       "    async function quickchart(key) {\n",
       "      const quickchartButtonEl =\n",
       "        document.querySelector('#' + key + ' button');\n",
       "      quickchartButtonEl.disabled = true;  // To prevent multiple clicks.\n",
       "      quickchartButtonEl.classList.add('colab-df-spinner');\n",
       "      try {\n",
       "        const charts = await google.colab.kernel.invokeFunction(\n",
       "            'suggestCharts', [key], {});\n",
       "      } catch (error) {\n",
       "        console.error('Error during call to suggestCharts:', error);\n",
       "      }\n",
       "      quickchartButtonEl.classList.remove('colab-df-spinner');\n",
       "      quickchartButtonEl.classList.add('colab-df-quickchart-complete');\n",
       "    }\n",
       "    (() => {\n",
       "      let quickchartButtonEl =\n",
       "        document.querySelector('#df-1289317d-9c91-4e54-a0fe-0534d5f03b8b button');\n",
       "      quickchartButtonEl.style.display =\n",
       "        google.colab.kernel.accessAllowed ? 'block' : 'none';\n",
       "    })();\n",
       "  </script>\n",
       "</div>\n",
       "    </div>\n",
       "  </div>\n"
      ],
      "text/plain": [
       "      trial_type  run  onset  duration\n",
       "0       scissors    0   12.0      24.0\n",
       "1           face    0   48.0      24.0\n",
       "2            cat    0   84.0      24.0\n",
       "3           shoe    0  120.0      24.0\n",
       "4          house    0  156.0      24.0\n",
       "..           ...  ...    ...       ...\n",
       "91  scrambledpix   11  120.0      24.0\n",
       "92          face   11  156.0      24.0\n",
       "93          shoe   11  192.0      24.0\n",
       "94           cat   11  228.0      24.0\n",
       "95      scissors   11  264.0      24.0\n",
       "\n",
       "[96 rows x 4 columns]"
      ]
     },
     "execution_count": 19,
     "metadata": {},
     "output_type": "execute_result"
    }
   ],
   "source": [
    "events = pd.read_csv('%s/events.csv' % datapath)\n",
    "events"
   ]
  },
  {
   "cell_type": "markdown",
   "metadata": {
    "id": "y81eLdDBu7iZ"
   },
   "source": [
    "#### Extract the fMRI and event files into a list where the elements are the runs.\n",
    "\n",
    "Now, we will want to separate the data based on the runs. Here, we will load the data into lists in which each element contains the data for one fMRI run.\n",
    "\n",
    "Note: hopefully the [x for x in y] type of syntax is familar from the earlier homeworks/readings, but this is basically a way that you can populate a list with a for loop in a single line of code. Here, it will loop over all of the runs and separate the data into a list. We will end up with lists with 12 elements: fmri_runs will have 12 runs of fMRI data and events_runs will have 12 runs of events/behavioral/timing data."
   ]
  },
  {
   "cell_type": "code",
   "execution_count": 20,
   "metadata": {
    "executionInfo": {
     "elapsed": 45845,
     "status": "ok",
     "timestamp": 1705585486051,
     "user": {
      "displayName": "Derek Huffman",
      "userId": "09342400108599564621"
     },
     "user_tz": 300
    },
    "id": "3YfG0Jaru7iZ"
   },
   "outputs": [],
   "source": [
    "run_nums = np.unique(events['run'])\n",
    "\n",
    "fmri_runs = [index_img(fmri, tr_info['chunks'] == run_i) for run_i in run_nums]\n",
    "events_runs = [events[events['run'] == run_i] for run_i in run_nums]"
   ]
  },
  {
   "cell_type": "markdown",
   "metadata": {
    "id": "onEf9X0Lu7ia"
   },
   "source": [
    "### Modify our code slightly from last week to output z-maps.\n",
    "\n",
    "These files will create one z-score map for each category for each run. That is, instead of having 9 examples of each category per run (as above), we will end up with 1 example of each category per run."
   ]
  },
  {
   "cell_type": "code",
   "execution_count": 21,
   "metadata": {
    "executionInfo": {
     "elapsed": 15,
     "status": "ok",
     "timestamp": 1705585486053,
     "user": {
      "displayName": "Derek Huffman",
      "userId": "09342400108599564621"
     },
     "user_tz": 300
    },
    "id": "cH6i8xhlu7ia"
   },
   "outputs": [],
   "source": [
    "drift_model = 'polynomial'\n",
    "poly_drift_order = 3\n",
    "high_pass = 0.01\n",
    "mask_img = subject_data.mask_vt[0]"
   ]
  },
  {
   "cell_type": "code",
   "execution_count": 22,
   "metadata": {
    "colab": {
     "base_uri": "https://localhost:8080/",
     "height": 1000
    },
    "executionInfo": {
     "elapsed": 27168,
     "status": "ok",
     "timestamp": 1705585513210,
     "user": {
      "displayName": "Derek Huffman",
      "userId": "09342400108599564621"
     },
     "user_tz": 300
    },
    "id": "nokz91oWu7ia",
    "outputId": "23eeb18a-0e78-4259-98a3-0757337e0a0a"
   },
   "outputs": [
    {
     "name": "stdout",
     "output_type": "stream",
     "text": [
      "(40, 64, 64, 121)\n",
      "     trial_type  run  onset  duration\n",
      "0      scissors    0   12.0      24.0\n",
      "1          face    0   48.0      24.0\n",
      "2           cat    0   84.0      24.0\n",
      "3          shoe    0  120.0      24.0\n",
      "4         house    0  156.0      24.0\n",
      "5  scrambledpix    0  192.0      24.0\n",
      "6        bottle    0  228.0      24.0\n",
      "7         chair    0  264.0      24.0\n"
     ]
    },
    {
     "name": "stderr",
     "output_type": "stream",
     "text": [
      "/usr/local/lib/python3.10/dist-packages/nilearn/image/resampling.py:493: UserWarning: The provided image has no sform in its header. Please check the provided file. Results may not be as expected.\n",
      "  warnings.warn(\n",
      "/usr/local/lib/python3.10/dist-packages/nilearn/glm/first_level/experimental_paradigm.py:166: UserWarning: The following unexpected columns in events data will be ignored: run\n",
      "  warnings.warn(\n"
     ]
    },
    {
     "name": "stdout",
     "output_type": "stream",
     "text": [
      "bottle\n",
      "cat\n",
      "chair\n",
      "face\n",
      "house\n",
      "scissors\n",
      "scrambledpix\n",
      "shoe\n"
     ]
    },
    {
     "data": {
      "image/png": "[encoded data removed]",
      "text/plain": [
       "<Figure size 376x1000 with 1 Axes>"
      ]
     },
     "metadata": {},
     "output_type": "display_data"
    },
    {
     "name": "stdout",
     "output_type": "stream",
     "text": [
      "(40, 64, 64, 121)\n",
      "      trial_type  run  onset  duration\n",
      "8           face    1   12.0      24.0\n",
      "9   scrambledpix    1   48.0      24.0\n",
      "10      scissors    1   84.0      24.0\n",
      "11          shoe    1  120.0      24.0\n",
      "12        bottle    1  156.0      24.0\n",
      "13           cat    1  192.0      24.0\n",
      "14         chair    1  228.0      24.0\n",
      "15         house    1  264.0      24.0\n"
     ]
    },
    {
     "name": "stderr",
     "output_type": "stream",
     "text": [
      "/usr/local/lib/python3.10/dist-packages/nilearn/image/resampling.py:493: UserWarning: The provided image has no sform in its header. Please check the provided file. Results may not be as expected.\n",
      "  warnings.warn(\n",
      "/usr/local/lib/python3.10/dist-packages/nilearn/glm/first_level/experimental_paradigm.py:166: UserWarning: The following unexpected columns in events data will be ignored: run\n",
      "  warnings.warn(\n"
     ]
    },
    {
     "name": "stdout",
     "output_type": "stream",
     "text": [
      "bottle\n",
      "cat\n",
      "chair\n",
      "face\n",
      "house\n",
      "scissors\n",
      "scrambledpix\n",
      "shoe\n"
     ]
    },
    {
     "data": {
      "image/png": "[encoded data removed]",
      "text/plain": [
       "<Figure size 376x1000 with 1 Axes>"
      ]
     },
     "metadata": {},
     "output_type": "display_data"
    },
    {
     "name": "stdout",
     "output_type": "stream",
     "text": [
      "(40, 64, 64, 121)\n",
      "      trial_type  run  onset  duration\n",
      "16          face    2   12.0      24.0\n",
      "17         chair    2   48.0      24.0\n",
      "18           cat    2   84.0      24.0\n",
      "19         house    2  120.0      24.0\n",
      "20  scrambledpix    2  156.0      24.0\n",
      "21          shoe    2  192.0      24.0\n",
      "22        bottle    2  228.0      24.0\n",
      "23      scissors    2  264.0      24.0\n"
     ]
    },
    {
     "name": "stderr",
     "output_type": "stream",
     "text": [
      "/usr/local/lib/python3.10/dist-packages/nilearn/image/resampling.py:493: UserWarning: The provided image has no sform in its header. Please check the provided file. Results may not be as expected.\n",
      "  warnings.warn(\n",
      "/usr/local/lib/python3.10/dist-packages/nilearn/glm/first_level/experimental_paradigm.py:166: UserWarning: The following unexpected columns in events data will be ignored: run\n",
      "  warnings.warn(\n"
     ]
    },
    {
     "name": "stdout",
     "output_type": "stream",
     "text": [
      "bottle\n",
      "cat\n",
      "chair\n",
      "face\n",
      "house\n",
      "scissors\n",
      "scrambledpix\n",
      "shoe\n"
     ]
    },
    {
     "data": {
      "image/png": "[encoded data removed]",
      "text/plain": [
       "<Figure size 376x1000 with 1 Axes>"
      ]
     },
     "metadata": {},
     "output_type": "display_data"
    },
    {
     "name": "stdout",
     "output_type": "stream",
     "text": [
      "(40, 64, 64, 121)\n",
      "      trial_type  run  onset  duration\n",
      "24          shoe    3   12.0      24.0\n",
      "25         house    3   48.0      24.0\n",
      "26         chair    3   84.0      24.0\n",
      "27           cat    3  120.0      24.0\n",
      "28          face    3  156.0      24.0\n",
      "29  scrambledpix    3  192.0      24.0\n",
      "30        bottle    3  228.0      24.0\n",
      "31      scissors    3  264.0      24.0\n"
     ]
    },
    {
     "name": "stderr",
     "output_type": "stream",
     "text": [
      "/usr/local/lib/python3.10/dist-packages/nilearn/image/resampling.py:493: UserWarning: The provided image has no sform in its header. Please check the provided file. Results may not be as expected.\n",
      "  warnings.warn(\n",
      "/usr/local/lib/python3.10/dist-packages/nilearn/glm/first_level/experimental_paradigm.py:166: UserWarning: The following unexpected columns in events data will be ignored: run\n",
      "  warnings.warn(\n"
     ]
    },
    {
     "name": "stdout",
     "output_type": "stream",
     "text": [
      "bottle\n",
      "cat\n",
      "chair\n",
      "face\n",
      "house\n",
      "scissors\n",
      "scrambledpix\n",
      "shoe\n"
     ]
    },
    {
     "data": {
      "image/png": "[encoded data removed]",
      "text/plain": [
       "<Figure size 376x1000 with 1 Axes>"
      ]
     },
     "metadata": {},
     "output_type": "display_data"
    },
    {
     "name": "stdout",
     "output_type": "stream",
     "text": [
      "(40, 64, 64, 121)\n",
      "      trial_type  run  onset  duration\n",
      "32          face    4   12.0      24.0\n",
      "33           cat    4   48.0      24.0\n",
      "34          shoe    4   84.0      24.0\n",
      "35         chair    4  120.0      24.0\n",
      "36      scissors    4  156.0      24.0\n",
      "37        bottle    4  192.0      24.0\n",
      "38         house    4  228.0      24.0\n",
      "39  scrambledpix    4  264.0      24.0\n"
     ]
    },
    {
     "name": "stderr",
     "output_type": "stream",
     "text": [
      "/usr/local/lib/python3.10/dist-packages/nilearn/image/resampling.py:493: UserWarning: The provided image has no sform in its header. Please check the provided file. Results may not be as expected.\n",
      "  warnings.warn(\n",
      "/usr/local/lib/python3.10/dist-packages/nilearn/glm/first_level/experimental_paradigm.py:166: UserWarning: The following unexpected columns in events data will be ignored: run\n",
      "  warnings.warn(\n"
     ]
    },
    {
     "name": "stdout",
     "output_type": "stream",
     "text": [
      "bottle\n",
      "cat\n",
      "chair\n",
      "face\n",
      "house\n",
      "scissors\n",
      "scrambledpix\n",
      "shoe\n"
     ]
    },
    {
     "data": {
      "image/png": "[encoded data removed]",
      "text/plain": [
       "<Figure size 376x1000 with 1 Axes>"
      ]
     },
     "metadata": {},
     "output_type": "display_data"
    },
    {
     "name": "stdout",
     "output_type": "stream",
     "text": [
      "(40, 64, 64, 121)\n",
      "      trial_type  run  onset  duration\n",
      "40           cat    5   12.0      24.0\n",
      "41  scrambledpix    5   48.0      24.0\n",
      "42      scissors    5   84.0      24.0\n",
      "43         chair    5  120.0      24.0\n",
      "44        bottle    5  156.0      24.0\n",
      "45          shoe    5  192.0      24.0\n",
      "46          face    5  228.0      24.0\n",
      "47         house    5  264.0      24.0\n"
     ]
    },
    {
     "name": "stderr",
     "output_type": "stream",
     "text": [
      "/usr/local/lib/python3.10/dist-packages/nilearn/image/resampling.py:493: UserWarning: The provided image has no sform in its header. Please check the provided file. Results may not be as expected.\n",
      "  warnings.warn(\n",
      "/usr/local/lib/python3.10/dist-packages/nilearn/glm/first_level/experimental_paradigm.py:166: UserWarning: The following unexpected columns in events data will be ignored: run\n",
      "  warnings.warn(\n"
     ]
    },
    {
     "name": "stdout",
     "output_type": "stream",
     "text": [
      "bottle\n",
      "cat\n",
      "chair\n",
      "face\n",
      "house\n",
      "scissors\n",
      "scrambledpix\n",
      "shoe\n"
     ]
    },
    {
     "data": {
      "image/png": "[encoded data removed]",
      "text/plain": [
       "<Figure size 376x1000 with 1 Axes>"
      ]
     },
     "metadata": {},
     "output_type": "display_data"
    },
    {
     "name": "stdout",
     "output_type": "stream",
     "text": [
      "(40, 64, 64, 121)\n",
      "      trial_type  run  onset  duration\n",
      "48         house    6   12.0      24.0\n",
      "49      scissors    6   48.0      24.0\n",
      "50        bottle    6   84.0      24.0\n",
      "51          face    6  120.0      24.0\n",
      "52         chair    6  156.0      24.0\n",
      "53          shoe    6  192.0      24.0\n",
      "54           cat    6  228.0      24.0\n",
      "55  scrambledpix    6  264.0      24.0\n"
     ]
    },
    {
     "name": "stderr",
     "output_type": "stream",
     "text": [
      "/usr/local/lib/python3.10/dist-packages/nilearn/image/resampling.py:493: UserWarning: The provided image has no sform in its header. Please check the provided file. Results may not be as expected.\n",
      "  warnings.warn(\n",
      "/usr/local/lib/python3.10/dist-packages/nilearn/glm/first_level/experimental_paradigm.py:166: UserWarning: The following unexpected columns in events data will be ignored: run\n",
      "  warnings.warn(\n"
     ]
    },
    {
     "name": "stdout",
     "output_type": "stream",
     "text": [
      "bottle\n",
      "cat\n",
      "chair\n",
      "face\n",
      "house\n",
      "scissors\n",
      "scrambledpix\n",
      "shoe\n"
     ]
    },
    {
     "data": {
      "image/png": "[encoded data removed]",
      "text/plain": [
       "<Figure size 376x1000 with 1 Axes>"
      ]
     },
     "metadata": {},
     "output_type": "display_data"
    },
    {
     "name": "stdout",
     "output_type": "stream",
     "text": [
      "(40, 64, 64, 121)\n",
      "      trial_type  run  onset  duration\n",
      "56          face    7   12.0      24.0\n",
      "57         chair    7   48.0      24.0\n",
      "58      scissors    7   84.0      24.0\n",
      "59          shoe    7  120.0      24.0\n",
      "60  scrambledpix    7  156.0      24.0\n",
      "61         house    7  192.0      24.0\n",
      "62           cat    7  228.0      24.0\n",
      "63        bottle    7  264.0      24.0\n"
     ]
    },
    {
     "name": "stderr",
     "output_type": "stream",
     "text": [
      "/usr/local/lib/python3.10/dist-packages/nilearn/image/resampling.py:493: UserWarning: The provided image has no sform in its header. Please check the provided file. Results may not be as expected.\n",
      "  warnings.warn(\n",
      "/usr/local/lib/python3.10/dist-packages/nilearn/glm/first_level/experimental_paradigm.py:166: UserWarning: The following unexpected columns in events data will be ignored: run\n",
      "  warnings.warn(\n"
     ]
    },
    {
     "name": "stdout",
     "output_type": "stream",
     "text": [
      "bottle\n",
      "cat\n",
      "chair\n",
      "face\n",
      "house\n",
      "scissors\n",
      "scrambledpix\n",
      "shoe\n"
     ]
    },
    {
     "data": {
      "image/png": "[encoded data removed]",
      "text/plain": [
       "<Figure size 376x1000 with 1 Axes>"
      ]
     },
     "metadata": {},
     "output_type": "display_data"
    },
    {
     "name": "stdout",
     "output_type": "stream",
     "text": [
      "(40, 64, 64, 121)\n",
      "      trial_type  run  onset  duration\n",
      "64          face    8   12.0      24.0\n",
      "65           cat    8   48.0      24.0\n",
      "66  scrambledpix    8   84.0      24.0\n",
      "67         house    8  120.0      24.0\n",
      "68      scissors    8  156.0      24.0\n",
      "69         chair    8  192.0      24.0\n",
      "70          shoe    8  228.0      24.0\n",
      "71        bottle    8  264.0      24.0\n"
     ]
    },
    {
     "name": "stderr",
     "output_type": "stream",
     "text": [
      "/usr/local/lib/python3.10/dist-packages/nilearn/image/resampling.py:493: UserWarning: The provided image has no sform in its header. Please check the provided file. Results may not be as expected.\n",
      "  warnings.warn(\n",
      "/usr/local/lib/python3.10/dist-packages/nilearn/glm/first_level/experimental_paradigm.py:166: UserWarning: The following unexpected columns in events data will be ignored: run\n",
      "  warnings.warn(\n"
     ]
    },
    {
     "name": "stdout",
     "output_type": "stream",
     "text": [
      "bottle\n",
      "cat\n",
      "chair\n",
      "face\n",
      "house\n",
      "scissors\n",
      "scrambledpix\n",
      "shoe\n"
     ]
    },
    {
     "data": {
      "image/png": "[encoded data removed]",
      "text/plain": [
       "<Figure size 376x1000 with 1 Axes>"
      ]
     },
     "metadata": {},
     "output_type": "display_data"
    },
    {
     "name": "stdout",
     "output_type": "stream",
     "text": [
      "(40, 64, 64, 121)\n",
      "      trial_type  run  onset  duration\n",
      "72         house    9   12.0      24.0\n",
      "73  scrambledpix    9   48.0      24.0\n",
      "74          face    9   84.0      24.0\n",
      "75          shoe    9  120.0      24.0\n",
      "76         chair    9  156.0      24.0\n",
      "77           cat    9  192.0      24.0\n",
      "78        bottle    9  228.0      24.0\n",
      "79      scissors    9  264.0      24.0\n"
     ]
    },
    {
     "name": "stderr",
     "output_type": "stream",
     "text": [
      "/usr/local/lib/python3.10/dist-packages/nilearn/image/resampling.py:493: UserWarning: The provided image has no sform in its header. Please check the provided file. Results may not be as expected.\n",
      "  warnings.warn(\n",
      "/usr/local/lib/python3.10/dist-packages/nilearn/glm/first_level/experimental_paradigm.py:166: UserWarning: The following unexpected columns in events data will be ignored: run\n",
      "  warnings.warn(\n"
     ]
    },
    {
     "name": "stdout",
     "output_type": "stream",
     "text": [
      "bottle\n",
      "cat\n",
      "chair\n",
      "face\n",
      "house\n",
      "scissors\n",
      "scrambledpix\n",
      "shoe\n"
     ]
    },
    {
     "data": {
      "image/png": "[encoded data removed]",
      "text/plain": [
       "<Figure size 376x1000 with 1 Axes>"
      ]
     },
     "metadata": {},
     "output_type": "display_data"
    },
    {
     "name": "stdout",
     "output_type": "stream",
     "text": [
      "(40, 64, 64, 121)\n",
      "      trial_type  run  onset  duration\n",
      "80           cat   10   12.0      24.0\n",
      "81  scrambledpix   10   48.0      24.0\n",
      "82         chair   10   84.0      24.0\n",
      "83        bottle   10  120.0      24.0\n",
      "84          shoe   10  156.0      24.0\n",
      "85         house   10  192.0      24.0\n",
      "86          face   10  228.0      24.0\n",
      "87      scissors   10  264.0      24.0\n"
     ]
    },
    {
     "name": "stderr",
     "output_type": "stream",
     "text": [
      "/usr/local/lib/python3.10/dist-packages/nilearn/image/resampling.py:493: UserWarning: The provided image has no sform in its header. Please check the provided file. Results may not be as expected.\n",
      "  warnings.warn(\n",
      "/usr/local/lib/python3.10/dist-packages/nilearn/glm/first_level/experimental_paradigm.py:166: UserWarning: The following unexpected columns in events data will be ignored: run\n",
      "  warnings.warn(\n"
     ]
    },
    {
     "name": "stdout",
     "output_type": "stream",
     "text": [
      "bottle\n",
      "cat\n",
      "chair\n",
      "face\n",
      "house\n",
      "scissors\n",
      "scrambledpix\n",
      "shoe\n"
     ]
    },
    {
     "data": {
      "image/png": "[encoded data removed]",
      "text/plain": [
       "<Figure size 376x1000 with 1 Axes>"
      ]
     },
     "metadata": {},
     "output_type": "display_data"
    },
    {
     "name": "stdout",
     "output_type": "stream",
     "text": [
      "(40, 64, 64, 121)\n",
      "      trial_type  run  onset  duration\n",
      "88        bottle   11   12.0      24.0\n",
      "89         house   11   48.0      24.0\n",
      "90         chair   11   84.0      24.0\n",
      "91  scrambledpix   11  120.0      24.0\n",
      "92          face   11  156.0      24.0\n",
      "93          shoe   11  192.0      24.0\n",
      "94           cat   11  228.0      24.0\n",
      "95      scissors   11  264.0      24.0\n"
     ]
    },
    {
     "name": "stderr",
     "output_type": "stream",
     "text": [
      "/usr/local/lib/python3.10/dist-packages/nilearn/image/resampling.py:493: UserWarning: The provided image has no sform in its header. Please check the provided file. Results may not be as expected.\n",
      "  warnings.warn(\n",
      "/usr/local/lib/python3.10/dist-packages/nilearn/glm/first_level/experimental_paradigm.py:166: UserWarning: The following unexpected columns in events data will be ignored: run\n",
      "  warnings.warn(\n"
     ]
    },
    {
     "name": "stdout",
     "output_type": "stream",
     "text": [
      "bottle\n",
      "cat\n",
      "chair\n",
      "face\n",
      "house\n",
      "scissors\n",
      "scrambledpix\n",
      "shoe\n"
     ]
    },
    {
     "data": {
      "image/png": "[encoded data removed]",
      "text/plain": [
       "<Figure size 376x1000 with 1 Axes>"
      ]
     },
     "metadata": {},
     "output_type": "display_data"
    }
   ],
   "source": [
    "# set up empty lists in which we can store our information of interest --------\n",
    "z_maps = []\n",
    "task_label_glm = []\n",
    "run_label_glm = []\n",
    "\n",
    "# set up an array with all of the unique conditions (for looping below) -------\n",
    "task_unique = np.unique(events['trial_type'])\n",
    "\n",
    "# loop over all of the runs to run the GLM ------------------------------------\n",
    "for run_i in np.arange(len(fmri_runs)):\n",
    "    fmri_glm = FirstLevelModel(t_r=2.5, noise_model='ar1', standardize=False,\n",
    "                               hrf_model='spm', drift_model=drift_model,\n",
    "                               drift_order=poly_drift_order,\n",
    "                               high_pass=high_pass, mask_img=mask_img)\n",
    "    print(fmri_runs[run_i].shape)\n",
    "    print(events_runs[run_i])\n",
    "    fmri_glm = fmri_glm.fit(fmri_runs[run_i], events_runs[run_i])\n",
    "    # extract z-statistics for each condition; i.e., our GLM-based patterns ---\n",
    "    # and append the z-statistics, task labels, and run labels ----------------\n",
    "    for condition_i in task_unique:\n",
    "        print(condition_i)\n",
    "        z_maps.append(fmri_glm.compute_contrast(condition_i))\n",
    "        task_label_glm.append(condition_i)\n",
    "        run_label_glm.append(run_i)\n",
    "    plot_design_matrix(fmri_glm.design_matrices_[0])\n",
    "    plt.show()\n",
    "\n",
    "# convert the lists to numpy arrays -------------------------------------------\n",
    "z_maps = np.array(z_maps)\n",
    "task_label_glm = np.array(task_label_glm)\n",
    "run_label_glm = np.array(run_label_glm)"
   ]
  },
  {
   "cell_type": "markdown",
   "metadata": {
    "id": "3SWWI22Gu7ib"
   },
   "source": [
    "### Here are a couple of functions that will help for the classification of different categories with different masks."
   ]
  },
  {
   "cell_type": "code",
   "execution_count": 23,
   "metadata": {
    "executionInfo": {
     "elapsed": 17,
     "status": "ok",
     "timestamp": 1705585513212,
     "user": {
      "displayName": "Derek Huffman",
      "userId": "09342400108599564621"
     },
     "user_tz": 300
    },
    "id": "ng9FNKsBu7ic"
   },
   "outputs": [],
   "source": [
    "def run_class_zmap(z_maps_arg, task_label_arg, run_label_arg,\n",
    "                   mask, categories):\n",
    "    \"\"\"\n",
    "    Run classification analysis on z-maps with categories.\n",
    "\n",
    "    Note: here, I am omitting z-scoring because we are already using\n",
    "    the z-maps, thus we are effectively standardized within each run.\n",
    "\n",
    "    Parameters\n",
    "    ----------\n",
    "    z_maps_arg : numpy.array with z-score maps\n",
    "        A numpy.array with z-score maps from a GLM\n",
    "    task_label_arg : a numpy.array of strings\n",
    "        The task labels that correspond to the z-score maps\n",
    "    run_label_arg : a numpy.array of int\n",
    "        The run labels that correspond to the z-score maps\n",
    "    mask : string\n",
    "        A string indicating the path and name of the mask\n",
    "    categories: numpy.array\n",
    "        A numpy.array of the categories to include in the classification\n",
    "\n",
    "    Returns\n",
    "    -------\n",
    "    Out : None\n",
    "        Does not return anything but prints the results of decoding.\n",
    "    \"\"\"\n",
    "    sel_mask = [x in categories for x in task_label_arg]\n",
    "    z_maps_sel = z_maps_arg[sel_mask]\n",
    "    task_sel = task_label_arg[sel_mask]\n",
    "    run_sel = run_label_arg[sel_mask]\n",
    "    decoder = Decoder(estimator='svc', mask=mask, standardize=False,\n",
    "                      screening_percentile=100, cv=LeaveOneGroupOut())\n",
    "    decoder.fit(z_maps_sel, task_sel, groups=run_sel)\n",
    "    avg_acc = print_class_accuracy(decoder)\n",
    "    return avg_acc\n"
   ]
  },
  {
   "cell_type": "markdown",
   "metadata": {
    "id": "70F0G8wju7ic"
   },
   "source": [
    "### Then, let's run the classification for faces vs. houses in VT with these z-score maps (from the GLMs)"
   ]
  },
  {
   "cell_type": "code",
   "execution_count": 24,
   "metadata": {
    "colab": {
     "base_uri": "https://localhost:8080/"
    },
    "executionInfo": {
     "elapsed": 1089,
     "status": "ok",
     "timestamp": 1705585514288,
     "user": {
      "displayName": "Derek Huffman",
      "userId": "09342400108599564621"
     },
     "user_tz": 300
    },
    "id": "ptt7lBVau7ic",
    "outputId": "0389f135-420e-43b9-96f1-b8813e49f7d4"
   },
   "outputs": [
    {
     "name": "stderr",
     "output_type": "stream",
     "text": [
      "/usr/local/lib/python3.10/dist-packages/nilearn/image/resampling.py:493: UserWarning: The provided image has no sform in its header. Please check the provided file. Results may not be as expected.\n",
      "  warnings.warn(\n"
     ]
    },
    {
     "name": "stdout",
     "output_type": "stream",
     "text": [
      "Classifying ['face' 'house']\n",
      "Classification accuracy: 1.0000 / Chance level: 0.5\n"
     ]
    }
   ],
   "source": [
    "res_FvH_vtc = run_class_zmap(z_maps, task_label_glm, run_label_glm,\n",
    "                             mask=subject_data.mask_vt[0],\n",
    "                             categories=np.array(['face', 'house']))"
   ]
  },
  {
   "cell_type": "markdown",
   "metadata": {
    "id": "FrkQqeW-u7id"
   },
   "source": [
    "Okay, 100% now!\n",
    "\n",
    "### What about classification in VT for other CATegories?"
   ]
  },
  {
   "cell_type": "code",
   "execution_count": 25,
   "metadata": {
    "colab": {
     "base_uri": "https://localhost:8080/"
    },
    "executionInfo": {
     "elapsed": 1004,
     "status": "ok",
     "timestamp": 1705585515287,
     "user": {
      "displayName": "Derek Huffman",
      "userId": "09342400108599564621"
     },
     "user_tz": 300
    },
    "id": "lcC8IqJWu7ie",
    "outputId": "f79aa2d7-3e5b-486c-c640-deeb4275b702"
   },
   "outputs": [
    {
     "name": "stderr",
     "output_type": "stream",
     "text": [
      "/usr/local/lib/python3.10/dist-packages/nilearn/image/resampling.py:493: UserWarning: The provided image has no sform in its header. Please check the provided file. Results may not be as expected.\n",
      "  warnings.warn(\n"
     ]
    },
    {
     "name": "stdout",
     "output_type": "stream",
     "text": [
      "Classifying ['cat' 'shoe']\n",
      "Classification accuracy: 1.0000 / Chance level: 0.5\n"
     ]
    }
   ],
   "source": [
    "res_CvS_vtc = run_class_zmap(z_maps, task_label_glm, run_label_glm,\n",
    "                             mask=subject_data.mask_vt[0],\n",
    "                             categories=np.array(['cat', 'shoe']))"
   ]
  },
  {
   "cell_type": "markdown",
   "metadata": {
    "id": "U9G9uLX5u7ie"
   },
   "source": [
    "This is also looking purrfect! ;)"
   ]
  },
  {
   "cell_type": "markdown",
   "metadata": {
    "id": "xoPV7T_du7if"
   },
   "source": [
    "### Let's try the same process for the \"house\" selective voxels\n",
    "\n",
    "#### Faces vs. houses"
   ]
  },
  {
   "cell_type": "code",
   "execution_count": 26,
   "metadata": {
    "colab": {
     "base_uri": "https://localhost:8080/"
    },
    "executionInfo": {
     "elapsed": 2221,
     "status": "ok",
     "timestamp": 1705585517502,
     "user": {
      "displayName": "Derek Huffman",
      "userId": "09342400108599564621"
     },
     "user_tz": 300
    },
    "id": "7lVgfPRuu7ig",
    "outputId": "2fbd3db3-975b-4264-dc71-3b39a0f47cc8"
   },
   "outputs": [
    {
     "name": "stderr",
     "output_type": "stream",
     "text": [
      "/usr/local/lib/python3.10/dist-packages/nilearn/image/resampling.py:493: UserWarning: The provided image has no sform in its header. Please check the provided file. Results may not be as expected.\n",
      "  warnings.warn(\n"
     ]
    },
    {
     "name": "stdout",
     "output_type": "stream",
     "text": [
      "Classifying ['face' 'house']\n",
      "Classification accuracy: 1.0000 / Chance level: 0.5\n"
     ]
    }
   ],
   "source": [
    "res_FvH_ppa = run_class_zmap(z_maps, task_label_glm, run_label_glm,\n",
    "                             mask=subject_data.mask_house[0],\n",
    "                             categories=np.array(['face', 'house']))"
   ]
  },
  {
   "cell_type": "markdown",
   "metadata": {
    "id": "nfh-aEvHu7ih"
   },
   "source": [
    "#### Cats vs. shoes"
   ]
  },
  {
   "cell_type": "code",
   "execution_count": 27,
   "metadata": {
    "colab": {
     "base_uri": "https://localhost:8080/"
    },
    "executionInfo": {
     "elapsed": 248,
     "status": "ok",
     "timestamp": 1705585517732,
     "user": {
      "displayName": "Derek Huffman",
      "userId": "09342400108599564621"
     },
     "user_tz": 300
    },
    "id": "3Ow4Puq6u7ih",
    "outputId": "4740057f-b2cf-412c-ca85-1a937b183b72"
   },
   "outputs": [
    {
     "name": "stderr",
     "output_type": "stream",
     "text": [
      "/usr/local/lib/python3.10/dist-packages/nilearn/image/resampling.py:493: UserWarning: The provided image has no sform in its header. Please check the provided file. Results may not be as expected.\n",
      "  warnings.warn(\n"
     ]
    },
    {
     "name": "stdout",
     "output_type": "stream",
     "text": [
      "Classifying ['cat' 'shoe']\n",
      "Classification accuracy: 1.0000 / Chance level: 0.5\n"
     ]
    }
   ],
   "source": [
    "res_CvS_ppa = run_class_zmap(z_maps, task_label_glm, run_label_glm,\n",
    "                             mask=subject_data.mask_house[0],\n",
    "                             categories=np.array(['cat', 'shoe']))"
   ]
  },
  {
   "cell_type": "markdown",
   "metadata": {
    "id": "yQQgekODu7ii"
   },
   "source": [
    "### Let's try the same process for the \"face\" selective voxels\n",
    "\n",
    "#### Faces vs. houses"
   ]
  },
  {
   "cell_type": "code",
   "execution_count": 28,
   "metadata": {
    "colab": {
     "base_uri": "https://localhost:8080/"
    },
    "executionInfo": {
     "elapsed": 982,
     "status": "ok",
     "timestamp": 1705585518706,
     "user": {
      "displayName": "Derek Huffman",
      "userId": "09342400108599564621"
     },
     "user_tz": 300
    },
    "id": "tZjqVTtVu7ij",
    "outputId": "13bb32e7-9242-4543-907a-b577f31d2ef6"
   },
   "outputs": [
    {
     "name": "stderr",
     "output_type": "stream",
     "text": [
      "/usr/local/lib/python3.10/dist-packages/nilearn/image/resampling.py:493: UserWarning: The provided image has no sform in its header. Please check the provided file. Results may not be as expected.\n",
      "  warnings.warn(\n",
      "/usr/local/lib/python3.10/dist-packages/nilearn/decoding/decoder.py:756: UserWarning: After clustering and screening, the decoding model will be trained only on 30 features. Consider raising clustering_percentile or screening_percentile parameters.\n",
      "  warnings.warn(\n"
     ]
    },
    {
     "name": "stdout",
     "output_type": "stream",
     "text": [
      "Classifying ['face' 'house']\n",
      "Classification accuracy: 0.9167 / Chance level: 0.5\n"
     ]
    }
   ],
   "source": [
    "res_FvH_ffa = run_class_zmap(z_maps, task_label_glm, run_label_glm,\n",
    "                             mask=subject_data.mask_face[0],\n",
    "                             categories=np.array(['face', 'house']))"
   ]
  },
  {
   "cell_type": "markdown",
   "metadata": {
    "id": "rvF5fJ84u7ij"
   },
   "source": [
    "#### Cats vs. shoes"
   ]
  },
  {
   "cell_type": "code",
   "execution_count": 29,
   "metadata": {
    "colab": {
     "base_uri": "https://localhost:8080/"
    },
    "executionInfo": {
     "elapsed": 1012,
     "status": "ok",
     "timestamp": 1705585519712,
     "user": {
      "displayName": "Derek Huffman",
      "userId": "09342400108599564621"
     },
     "user_tz": 300
    },
    "id": "l-5IvE0Wu7ik",
    "outputId": "2a608bfc-b173-44f2-8d8b-5da08fc54fb5"
   },
   "outputs": [
    {
     "name": "stderr",
     "output_type": "stream",
     "text": [
      "/usr/local/lib/python3.10/dist-packages/nilearn/image/resampling.py:493: UserWarning: The provided image has no sform in its header. Please check the provided file. Results may not be as expected.\n",
      "  warnings.warn(\n",
      "/usr/local/lib/python3.10/dist-packages/nilearn/decoding/decoder.py:756: UserWarning: After clustering and screening, the decoding model will be trained only on 30 features. Consider raising clustering_percentile or screening_percentile parameters.\n",
      "  warnings.warn(\n"
     ]
    },
    {
     "name": "stdout",
     "output_type": "stream",
     "text": [
      "Classifying ['cat' 'shoe']\n",
      "Classification accuracy: 1.0000 / Chance level: 0.5\n"
     ]
    }
   ],
   "source": [
    "res_CvS_ffa = run_class_zmap(z_maps, task_label_glm, run_label_glm,\n",
    "                             mask=subject_data.mask_face[0],\n",
    "                             categories=np.array(['cat', 'shoe']))"
   ]
  },
  {
   "cell_type": "markdown",
   "metadata": {
    "id": "4-RVGCNxu7il"
   },
   "source": [
    "### Let's create a figure with the results for the classification of Faces vs. \"Places\" and Cats vs. Shoes in the ventral temporal cortex as well as the face-selective voxels and the \"place\"-selective voxels\n",
    "\n",
    "#### First, we need to get the data into a pandas DataFrame"
   ]
  },
  {
   "cell_type": "code",
   "execution_count": 30,
   "metadata": {
    "executionInfo": {
     "elapsed": 15,
     "status": "ok",
     "timestamp": 1705585519713,
     "user": {
      "displayName": "Derek Huffman",
      "userId": "09342400108599564621"
     },
     "user_tz": 300
    },
    "id": "_jqU-rKEu7im"
   },
   "outputs": [],
   "source": [
    "# get all of the classification accuracy into a numpy array -------------------\n",
    "# here, we will multiply by 100 since percent accuracy is easier for plots ----\n",
    "acc_all_data = np.array((res_FvH_vtc, res_FvH_ffa, res_FvH_ppa,\n",
    "                         res_CvS_vtc, res_CvS_ffa, res_CvS_ppa)) * 100\n",
    "\n",
    "# create a numpy array with the classification categories ---------------------\n",
    "classification_categories = np.append(np.repeat(\"Faces vs. Places\", 3),\n",
    "                                      np.repeat(\"Cats vs. Shoes\", 3))\n",
    "\n",
    "# create a numpy array with the region of interest information (i.e., mask) ---\n",
    "region_of_interest = np.array((\"VTC\", \"FFA\", \"PPA\", \"VTC\", \"FFA\", \"PPA\"))\n",
    "\n",
    "# place it all into a DataFrame for easy plotting in seaborn ------------------\n",
    "df = pd.DataFrame({\"Classification accuracy\" : acc_all_data,\n",
    "                   \"Classification categories\" : classification_categories,\n",
    "                   \"Region of interest\" : region_of_interest})"
   ]
  },
  {
   "cell_type": "code",
   "execution_count": 31,
   "metadata": {
    "colab": {
     "base_uri": "https://localhost:8080/",
     "height": 235
    },
    "executionInfo": {
     "elapsed": 13,
     "status": "ok",
     "timestamp": 1705585519713,
     "user": {
      "displayName": "Derek Huffman",
      "userId": "09342400108599564621"
     },
     "user_tz": 300
    },
    "id": "t2P_QFG4u7im",
    "outputId": "5c4478a1-02ba-413b-816f-2e6e9c153861"
   },
   "outputs": [
    {
     "data": {
      "text/html": [
       "\n",
       "  <div id=\"df-b2e15cb2-23c4-4596-863c-99cb9561b40d\" class=\"colab-df-container\">\n",
       "    <div>\n",
       "<style scoped>\n",
       "    .dataframe tbody tr th:only-of-type {\n",
       "        vertical-align: middle;\n",
       "    }\n",
       "\n",
       "    .dataframe tbody tr th {\n",
       "        vertical-align: top;\n",
       "    }\n",
       "\n",
       "    .dataframe thead th {\n",
       "        text-align: right;\n",
       "    }\n",
       "</style>\n",
       "<table border=\"1\" class=\"dataframe\">\n",
       "  <thead>\n",
       "    <tr style=\"text-align: right;\">\n",
       "      <th></th>\n",
       "      <th>Classification accuracy</th>\n",
       "      <th>Classification categories</th>\n",
       "      <th>Region of interest</th>\n",
       "    </tr>\n",
       "  </thead>\n",
       "  <tbody>\n",
       "    <tr>\n",
       "      <th>0</th>\n",
       "      <td>100.000000</td>\n",
       "      <td>Faces vs. Places</td>\n",
       "      <td>VTC</td>\n",
       "    </tr>\n",
       "    <tr>\n",
       "      <th>1</th>\n",
       "      <td>91.666667</td>\n",
       "      <td>Faces vs. Places</td>\n",
       "      <td>FFA</td>\n",
       "    </tr>\n",
       "    <tr>\n",
       "      <th>2</th>\n",
       "      <td>100.000000</td>\n",
       "      <td>Faces vs. Places</td>\n",
       "      <td>PPA</td>\n",
       "    </tr>\n",
       "    <tr>\n",
       "      <th>3</th>\n",
       "      <td>100.000000</td>\n",
       "      <td>Cats vs. Shoes</td>\n",
       "      <td>VTC</td>\n",
       "    </tr>\n",
       "    <tr>\n",
       "      <th>4</th>\n",
       "      <td>100.000000</td>\n",
       "      <td>Cats vs. Shoes</td>\n",
       "      <td>FFA</td>\n",
       "    </tr>\n",
       "    <tr>\n",
       "      <th>5</th>\n",
       "      <td>100.000000</td>\n",
       "      <td>Cats vs. Shoes</td>\n",
       "      <td>PPA</td>\n",
       "    </tr>\n",
       "  </tbody>\n",
       "</table>\n",
       "</div>\n",
       "    <div class=\"colab-df-buttons\">\n",
       "\n",
       "  <div class=\"colab-df-container\">\n",
       "    <button class=\"colab-df-convert\" onclick=\"convertToInteractive('df-b2e15cb2-23c4-4596-863c-99cb9561b40d')\"\n",
       "            title=\"Convert this dataframe to an interactive table.\"\n",
       "            style=\"display:none;\">\n",
       "\n",
       "  <svg xmlns=\"http://www.w3.org/2000/svg\" height=\"24px\" viewBox=\"0 -960 960 960\">\n",
       "    <path d=\"M120-120v-720h720v720H120Zm60-500h600v-160H180v160Zm220 220h160v-160H400v160Zm0 220h160v-160H400v160ZM180-400h160v-160H180v160Zm440 0h160v-160H620v160ZM180-180h160v-160H180v160Zm440 0h160v-160H620v160Z\"/>\n",
       "  </svg>\n",
       "    </button>\n",
       "\n",
       "  <style>\n",
       "    .colab-df-container {\n",
       "      display:flex;\n",
       "      gap: 12px;\n",
       "    }\n",
       "\n",
       "    .colab-df-convert {\n",
       "      background-color: #E8F0FE;\n",
       "      border: none;\n",
       "      border-radius: 50%;\n",
       "      cursor: pointer;\n",
       "      display: none;\n",
       "      fill: #1967D2;\n",
       "      height: 32px;\n",
       "      padding: 0 0 0 0;\n",
       "      width: 32px;\n",
       "    }\n",
       "\n",
       "    .colab-df-convert:hover {\n",
       "      background-color: #E2EBFA;\n",
       "      box-shadow: 0px 1px 2px rgba(60, 64, 67, 0.3), 0px 1px 3px 1px rgba(60, 64, 67, 0.15);\n",
       "      fill: #174EA6;\n",
       "    }\n",
       "\n",
       "    .colab-df-buttons div {\n",
       "      margin-bottom: 4px;\n",
       "    }\n",
       "\n",
       "    [theme=dark] .colab-df-convert {\n",
       "      background-color: #3B4455;\n",
       "      fill: #D2E3FC;\n",
       "    }\n",
       "\n",
       "    [theme=dark] .colab-df-convert:hover {\n",
       "      background-color: #434B5C;\n",
       "      box-shadow: 0px 1px 3px 1px rgba(0, 0, 0, 0.15);\n",
       "      filter: drop-shadow(0px 1px 2px rgba(0, 0, 0, 0.3));\n",
       "      fill: #FFFFFF;\n",
       "    }\n",
       "  </style>\n",
       "\n",
       "    <script>\n",
       "      const buttonEl =\n",
       "        document.querySelector('#df-b2e15cb2-23c4-4596-863c-99cb9561b40d button.colab-df-convert');\n",
       "      buttonEl.style.display =\n",
       "        google.colab.kernel.accessAllowed ? 'block' : 'none';\n",
       "\n",
       "      async function convertToInteractive(key) {\n",
       "        const element = document.querySelector('#df-b2e15cb2-23c4-4596-863c-99cb9561b40d');\n",
       "        const dataTable =\n",
       "          await google.colab.kernel.invokeFunction('convertToInteractive',\n",
       "                                                    [key], {});\n",
       "        if (!dataTable) return;\n",
       "\n",
       "        const docLinkHtml = 'Like what you see? Visit the ' +\n",
       "          '<a target=\"_blank\" href=https://colab.research.google.com/notebooks/data_table.ipynb>data table notebook</a>'\n",
       "          + ' to learn more about interactive tables.';\n",
       "        element.innerHTML = '';\n",
       "        dataTable['output_type'] = 'display_data';\n",
       "        await google.colab.output.renderOutput(dataTable, element);\n",
       "        const docLink = document.createElement('div');\n",
       "        docLink.innerHTML = docLinkHtml;\n",
       "        element.appendChild(docLink);\n",
       "      }\n",
       "    </script>\n",
       "  </div>\n",
       "\n",
       "\n",
       "<div id=\"df-892768c7-dabc-4dd1-9af0-22f3a8c80b30\">\n",
       "  <button class=\"colab-df-quickchart\" onclick=\"quickchart('df-892768c7-dabc-4dd1-9af0-22f3a8c80b30')\"\n",
       "            title=\"Suggest charts\"\n",
       "            style=\"display:none;\">\n",
       "\n",
       "<svg xmlns=\"http://www.w3.org/2000/svg\" height=\"24px\"viewBox=\"0 0 24 24\"\n",
       "     width=\"24px\">\n",
       "    <g>\n",
       "        <path d=\"M19 3H5c-1.1 0-2 .9-2 2v14c0 1.1.9 2 2 2h14c1.1 0 2-.9 2-2V5c0-1.1-.9-2-2-2zM9 17H7v-7h2v7zm4 0h-2V7h2v10zm4 0h-2v-4h2v4z\"/>\n",
       "    </g>\n",
       "</svg>\n",
       "  </button>\n",
       "\n",
       "<style>\n",
       "  .colab-df-quickchart {\n",
       "      --bg-color: #E8F0FE;\n",
       "      --fill-color: #1967D2;\n",
       "      --hover-bg-color: #E2EBFA;\n",
       "      --hover-fill-color: #174EA6;\n",
       "      --disabled-fill-color: #AAA;\n",
       "      --disabled-bg-color: #DDD;\n",
       "  }\n",
       "\n",
       "  [theme=dark] .colab-df-quickchart {\n",
       "      --bg-color: #3B4455;\n",
       "      --fill-color: #D2E3FC;\n",
       "      --hover-bg-color: #434B5C;\n",
       "      --hover-fill-color: #FFFFFF;\n",
       "      --disabled-bg-color: #3B4455;\n",
       "      --disabled-fill-color: #666;\n",
       "  }\n",
       "\n",
       "  .colab-df-quickchart {\n",
       "    background-color: var(--bg-color);\n",
       "    border: none;\n",
       "    border-radius: 50%;\n",
       "    cursor: pointer;\n",
       "    display: none;\n",
       "    fill: var(--fill-color);\n",
       "    height: 32px;\n",
       "    padding: 0;\n",
       "    width: 32px;\n",
       "  }\n",
       "\n",
       "  .colab-df-quickchart:hover {\n",
       "    background-color: var(--hover-bg-color);\n",
       "    box-shadow: 0 1px 2px rgba(60, 64, 67, 0.3), 0 1px 3px 1px rgba(60, 64, 67, 0.15);\n",
       "    fill: var(--button-hover-fill-color);\n",
       "  }\n",
       "\n",
       "  .colab-df-quickchart-complete:disabled,\n",
       "  .colab-df-quickchart-complete:disabled:hover {\n",
       "    background-color: var(--disabled-bg-color);\n",
       "    fill: var(--disabled-fill-color);\n",
       "    box-shadow: none;\n",
       "  }\n",
       "\n",
       "  .colab-df-spinner {\n",
       "    border: 2px solid var(--fill-color);\n",
       "    border-color: transparent;\n",
       "    border-bottom-color: var(--fill-color);\n",
       "    animation:\n",
       "      spin 1s steps(1) infinite;\n",
       "  }\n",
       "\n",
       "  @keyframes spin {\n",
       "    0% {\n",
       "      border-color: transparent;\n",
       "      border-bottom-color: var(--fill-color);\n",
       "      border-left-color: var(--fill-color);\n",
       "    }\n",
       "    20% {\n",
       "      border-color: transparent;\n",
       "      border-left-color: var(--fill-color);\n",
       "      border-top-color: var(--fill-color);\n",
       "    }\n",
       "    30% {\n",
       "      border-color: transparent;\n",
       "      border-left-color: var(--fill-color);\n",
       "      border-top-color: var(--fill-color);\n",
       "      border-right-color: var(--fill-color);\n",
       "    }\n",
       "    40% {\n",
       "      border-color: transparent;\n",
       "      border-right-color: var(--fill-color);\n",
       "      border-top-color: var(--fill-color);\n",
       "    }\n",
       "    60% {\n",
       "      border-color: transparent;\n",
       "      border-right-color: var(--fill-color);\n",
       "    }\n",
       "    80% {\n",
       "      border-color: transparent;\n",
       "      border-right-color: var(--fill-color);\n",
       "      border-bottom-color: var(--fill-color);\n",
       "    }\n",
       "    90% {\n",
       "      border-color: transparent;\n",
       "      border-bottom-color: var(--fill-color);\n",
       "    }\n",
       "  }\n",
       "</style>\n",
       "\n",
       "  <script>\n",
       "    async function quickchart(key) {\n",
       "      const quickchartButtonEl =\n",
       "        document.querySelector('#' + key + ' button');\n",
       "      quickchartButtonEl.disabled = true;  // To prevent multiple clicks.\n",
       "      quickchartButtonEl.classList.add('colab-df-spinner');\n",
       "      try {\n",
       "        const charts = await google.colab.kernel.invokeFunction(\n",
       "            'suggestCharts', [key], {});\n",
       "      } catch (error) {\n",
       "        console.error('Error during call to suggestCharts:', error);\n",
       "      }\n",
       "      quickchartButtonEl.classList.remove('colab-df-spinner');\n",
       "      quickchartButtonEl.classList.add('colab-df-quickchart-complete');\n",
       "    }\n",
       "    (() => {\n",
       "      let quickchartButtonEl =\n",
       "        document.querySelector('#df-892768c7-dabc-4dd1-9af0-22f3a8c80b30 button');\n",
       "      quickchartButtonEl.style.display =\n",
       "        google.colab.kernel.accessAllowed ? 'block' : 'none';\n",
       "    })();\n",
       "  </script>\n",
       "</div>\n",
       "    </div>\n",
       "  </div>\n"
      ],
      "text/plain": [
       "   Classification accuracy Classification categories Region of interest\n",
       "0               100.000000          Faces vs. Places                VTC\n",
       "1                91.666667          Faces vs. Places                FFA\n",
       "2               100.000000          Faces vs. Places                PPA\n",
       "3               100.000000            Cats vs. Shoes                VTC\n",
       "4               100.000000            Cats vs. Shoes                FFA\n",
       "5               100.000000            Cats vs. Shoes                PPA"
      ]
     },
     "execution_count": 31,
     "metadata": {},
     "output_type": "execute_result"
    }
   ],
   "source": [
    "df"
   ]
  },
  {
   "cell_type": "markdown",
   "metadata": {
    "id": "UPjQOwDGu7in"
   },
   "source": [
    "#### Next, we can plot the data using seaborn"
   ]
  },
  {
   "cell_type": "code",
   "execution_count": 32,
   "metadata": {
    "colab": {
     "base_uri": "https://localhost:8080/",
     "height": 307
    },
    "executionInfo": {
     "elapsed": 965,
     "status": "ok",
     "timestamp": 1705585520668,
     "user": {
      "displayName": "Derek Huffman",
      "userId": "09342400108599564621"
     },
     "user_tz": 300
    },
    "id": "hVXNR5dcu7io",
    "outputId": "db779d41-39ac-4872-e452-6d4380274aee"
   },
   "outputs": [
    {
     "data": {
      "image/png": "[encoded data removed]",
      "text/plain": [
       "<Figure size 390x300 with 2 Axes>"
      ]
     },
     "metadata": {},
     "output_type": "display_data"
    }
   ],
   "source": [
    "g = sns.FacetGrid(df, col=\"Classification categories\", hue=\"Region of interest\",\n",
    "                  palette=\"colorblind\", aspect=0.65)\n",
    "g.map(sns.barplot, \"Region of interest\", \"Classification accuracy\",\n",
    "      order=[\"VTC\", \"FFA\", \"PPA\"])\n",
    "g.set_titles('{col_name}')\n",
    "plt.savefig(\"classification_glm.pdf\", bbox_inches=\"tight\")"
   ]
  },
  {
   "cell_type": "markdown",
   "metadata": {
    "id": "doNZWRLO1PHy"
   },
   "source": [
    "You can download a PDF of these results by clicking on the \"Files\" icon on the left side of this page (looks like a folder) and then download the new file: classification_glm.pdf."
   ]
  },
  {
   "cell_type": "markdown",
   "metadata": {
    "id": "OkqCer0Xu7is"
   },
   "source": [
    "#### Question 2\n",
    "\n",
    "How do the results from this GLM-based approach compare to the single-TR based approach above? For example, is classification accuracy generally better/worse/the same?\n",
    "\n",
    "#### Question 3\n",
    "\n",
    "If there were differences between single TRs and the GLM, what could potentially cause these differences?\n",
    "\n",
    "#### Question 4\n",
    "\n",
    "How do you interpret these findings? How do these results fit in with the activation analysis from last week? For example, similar to Question 1 above, do these results cause you to reinterpret your conclusions from last week (e.g., about potential modularity / specialization)? Why or why not? Please also discuss which theory or theories activation analysis vs. MVPA allow us to test."
   ]
  },
  {
   "cell_type": "code",
   "execution_count": 32,
   "metadata": {
    "executionInfo": {
     "elapsed": 11,
     "status": "ok",
     "timestamp": 1705585520668,
     "user": {
      "displayName": "Derek Huffman",
      "userId": "09342400108599564621"
     },
     "user_tz": 300
    },
    "id": "WMZU5_Ozu7it"
   },
   "outputs": [],
   "source": []
  }
 ],
 "metadata": {
  "colab": {
   "provenance": []
  },
  "kernelspec": {
   "display_name": "Python 3 (ipykernel)",
   "language": "python",
   "name": "python3"
  },
  "language_info": {
   "codemirror_mode": {
    "name": "ipython",
    "version": 3
   },
   "file_extension": ".py",
   "mimetype": "text/x-python",
   "name": "python",
   "nbconvert_exporter": "python",
   "pygments_lexer": "ipython3",
   "version": "3.9.7"
  }
 },
 "nbformat": 4,
 "nbformat_minor": 1
}
